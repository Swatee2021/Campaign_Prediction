{
 "cells": [
  {
   "cell_type": "markdown",
   "id": "59741d6d-450a-485e-b7ab-233b54a0bbbe",
   "metadata": {
    "id": "59741d6d-450a-485e-b7ab-233b54a0bbbe"
   },
   "source": [
    "## Modeling - customer response will be predicted based on the profile and when the last customer purchases"
   ]
  },
  {
   "cell_type": "code",
   "execution_count": null,
   "id": "178a6e8d-5b95-4d48-8779-1330075c014e",
   "metadata": {
    "id": "178a6e8d-5b95-4d48-8779-1330075c014e"
   },
   "outputs": [],
   "source": [
    "import numpy as np # linear algebra\n",
    "import pandas as pd \n",
    "import seaborn as sns\n",
    "import matplotlib.pyplot as plt\n",
    "%matplotlib inline\n",
    "import warnings\n",
    "warnings.filterwarnings(\"ignore\")\n",
    "\n",
    "# PreProcessing\n",
    "from sklearn.compose import ColumnTransformer\n",
    "from sklearn.preprocessing import LabelEncoder, OneHotEncoder,RobustScaler,MinMaxScaler,StandardScaler\n",
    "import category_encoders as ce\n",
    "from sklearn.pipeline import Pipeline\n",
    "from sklearn.impute import SimpleImputer\n",
    "\n",
    "# Splitting Data\n",
    "from sklearn.model_selection import train_test_split, StratifiedKFold, cross_val_score\n",
    "# Resampling\n",
    "from imblearn.over_sampling import RandomOverSampler, SMOTE\n",
    "from imblearn.under_sampling import RandomUnderSampler, NearMiss\n",
    "from imblearn.combine import SMOTETomek\n",
    "from imblearn.pipeline import Pipeline\n",
    "\n",
    "# Modeling, Fitting and Evaluation\n",
    "from sklearn.linear_model import LogisticRegression\n",
    "from sklearn.metrics import classification_report,confusion_matrix, accuracy_score,f1_score, precision_score, roc_auc_score, plot_roc_curve,recall_score\n",
    "from sklearn.tree import DecisionTreeClassifier\n",
    "from sklearn.neighbors import KNeighborsClassifier\n",
    "from sklearn.model_selection import RandomizedSearchCV, GridSearchCV\n",
    "from sklearn.ensemble import RandomForestClassifier\n",
    "import category_encoders as ce\n",
    "from sklearn import metrics\n",
    "from datetime import datetime\n",
    "import datetime\n",
    "# Boosting\n",
    "from sklearn.ensemble import AdaBoostClassifier, GradientBoostingClassifier\n",
    "from xgboost.sklearn import XGBClassifier\n",
    "\n",
    "#feature Selection\n",
    "from sklearn.feature_selection import SelectPercentile, RFE\n",
    "\n",
    "#saving\n",
    "import pickle"
   ]
  },
  {
   "cell_type": "code",
   "execution_count": null,
   "id": "bbf24c75-095c-477f-b427-00da6c3214b3",
   "metadata": {
    "id": "bbf24c75-095c-477f-b427-00da6c3214b3"
   },
   "outputs": [],
   "source": [
    "#load data\n",
    "data = pd.read_csv('df_copy.csv')"
   ]
  },
  {
   "cell_type": "code",
   "execution_count": null,
   "id": "1c462584-2f69-4337-bfd5-1f67a6d3ace1",
   "metadata": {
    "id": "1c462584-2f69-4337-bfd5-1f67a6d3ace1",
    "outputId": "04204dc1-69ae-4b21-80f4-facc959a1e35"
   },
   "outputs": [
    {
     "data": {
      "text/plain": [
       "Index(['ID', 'Education', 'Marital_Status', 'Income', 'Kidhome', 'Teenhome',\n",
       "       'Dt_Customer', 'Recency', 'MntWines', 'MntFruits', 'MntMeatProducts',\n",
       "       'MntFishProducts', 'MntSweetProducts', 'MntGoldProds',\n",
       "       'NumDealsPurchases', 'NumWebPurchases', 'NumCatalogPurchases',\n",
       "       'NumStorePurchases', 'NumWebVisitsMonth', 'AcceptedCmp3',\n",
       "       'AcceptedCmp4', 'AcceptedCmp5', 'AcceptedCmp1', 'AcceptedCmp2',\n",
       "       'Response', 'Complain', 'Country', 'Ages', 'Age_Group', 'Join_year',\n",
       "       'Join_month', 'Join_weekday', 'Dependents', 'Total_Mnt',\n",
       "       'Total_num_purchase', 'Total_accept', 'AOV'],\n",
       "      dtype='object')"
      ]
     },
     "execution_count": 3,
     "metadata": {},
     "output_type": "execute_result"
    }
   ],
   "source": [
    "data.columns"
   ]
  },
  {
   "cell_type": "code",
   "execution_count": null,
   "id": "adcd5b07-4a9c-424b-b55a-1be15f271327",
   "metadata": {
    "id": "adcd5b07-4a9c-424b-b55a-1be15f271327",
    "outputId": "f2d9bb6f-ded1-474c-c161-1878e91d858f"
   },
   "outputs": [
    {
     "data": {
      "image/png": "[encoded data removed]",
      "text/plain": [
       "<Figure size 432x288 with 1 Axes>"
      ]
     },
     "metadata": {
      "needs_background": "light"
     },
     "output_type": "display_data"
    }
   ],
   "source": [
    "#most successful campaign\n",
    "campaign = data.loc[:,['Response','AcceptedCmp1','AcceptedCmp2','AcceptedCmp3','AcceptedCmp4','AcceptedCmp5']]\n",
    "\n",
    "campaign = campaign.melt()\n",
    "campaign = pd.crosstab(campaign[\"variable\"], campaign[\"value\"]).sort_values(0)\n",
    "\n",
    "cols = list(campaign.columns)\n",
    "a, b = cols.index(0), cols.index(1)\n",
    "cols[b], cols[a] = cols[a], cols[b]\n",
    "campaign = campaign[cols]\n",
    "campaign.columns = \"Yes\",\"No\"\n",
    "campaign.plot.bar(stacked=True)\n",
    "plt.title('Acceptance of Marketing Campaigns')\n",
    "plt.xlabel('Campaign')\n",
    "plt.ylabel('Acceptance')\n",
    "plt.legend(title='Response',loc='upper left',bbox_to_anchor=(1, 0.5))\n",
    "plt.show()"
   ]
  },
  {
   "cell_type": "markdown",
   "id": "2644cdd0-b7f4-4eca-8183-e584adb65765",
   "metadata": {
    "id": "2644cdd0-b7f4-4eca-8183-e584adb65765"
   },
   "source": [
    "## Preprocessing"
   ]
  },
  {
   "cell_type": "code",
   "execution_count": null,
   "id": "0ed91488-0984-44e6-ac13-34535f25c3f2",
   "metadata": {
    "id": "0ed91488-0984-44e6-ac13-34535f25c3f2"
   },
   "outputs": [],
   "source": [
    "# we will scale the numerical columns and encode the categorical columns \n",
    "scale = Pipeline([\n",
    "        ('scaling', RobustScaler()),\n",
    "])\n",
    "\n",
    "transformer = ColumnTransformer([\n",
    "    ('encoder',OneHotEncoder(handle_unknown='ignore'),['Education','Marital_Status']),\n",
    "    ('binary',ce.BinaryEncoder(),['Country']),\n",
    "    ('scale',RobustScaler(),['Ages','Recency'])\n",
    "],remainder='passthrough')"
   ]
  },
  {
   "cell_type": "code",
   "execution_count": null,
   "id": "344448cf-80b6-4705-9d32-a8c9b167a154",
   "metadata": {
    "id": "344448cf-80b6-4705-9d32-a8c9b167a154"
   },
   "outputs": [],
   "source": [
    "# predicting the customers response on based on their profile and their last purchase.\n",
    "data=data.drop(['MntWines','MntFruits','MntMeatProducts','MntFishProducts','MntSweetProducts','MntGoldProds','NumDealsPurchases','NumWebPurchases','NumCatalogPurchases','NumStorePurchases','NumWebVisitsMonth','Complain','Dt_Customer','ID','AcceptedCmp3','AcceptedCmp4','AcceptedCmp5','AcceptedCmp1','AcceptedCmp2','Age_Group', 'Join_year',\n",
    "       'Join_month', 'Join_weekday', 'Dependents', 'Total_Mnt', 'Total_num_purchase', 'Total_accept', 'AOV'],axis=1)"
   ]
  },
  {
   "cell_type": "code",
   "execution_count": null,
   "id": "4fcbb5b8-d8d8-4fbd-b5b0-6cd749f60f1d",
   "metadata": {
    "id": "4fcbb5b8-d8d8-4fbd-b5b0-6cd749f60f1d",
    "outputId": "f80d5674-fa5a-429a-aeaf-1fe9f55b2005"
   },
   "outputs": [
    {
     "data": {
      "text/plain": [
       "Index(['Education', 'Marital_Status', 'Income', 'Kidhome', 'Teenhome',\n",
       "       'Recency', 'Response', 'Country', 'Ages'],\n",
       "      dtype='object')"
      ]
     },
     "execution_count": 7,
     "metadata": {},
     "output_type": "execute_result"
    }
   ],
   "source": [
    "data.columns"
   ]
  },
  {
   "cell_type": "code",
   "execution_count": null,
   "id": "d9572e62-8ba8-4f3b-9427-b1f7511a332e",
   "metadata": {
    "id": "d9572e62-8ba8-4f3b-9427-b1f7511a332e",
    "outputId": "826c8f0d-5c8d-42c0-a2a1-976d8365c96b"
   },
   "outputs": [
    {
     "data": {
      "text/html": [
       "<div>\n",
       "<style scoped>\n",
       "    .dataframe tbody tr th:only-of-type {\n",
       "        vertical-align: middle;\n",
       "    }\n",
       "\n",
       "    .dataframe tbody tr th {\n",
       "        vertical-align: top;\n",
       "    }\n",
       "\n",
       "    .dataframe thead th {\n",
       "        text-align: right;\n",
       "    }\n",
       "</style>\n",
       "<table border=\"1\" class=\"dataframe\">\n",
       "  <thead>\n",
       "    <tr style=\"text-align: right;\">\n",
       "      <th></th>\n",
       "      <th>Education</th>\n",
       "      <th>Marital_Status</th>\n",
       "      <th>Income</th>\n",
       "      <th>Kidhome</th>\n",
       "      <th>Teenhome</th>\n",
       "      <th>Recency</th>\n",
       "      <th>Response</th>\n",
       "      <th>Country</th>\n",
       "      <th>Ages</th>\n",
       "    </tr>\n",
       "  </thead>\n",
       "  <tbody>\n",
       "    <tr>\n",
       "      <th>0</th>\n",
       "      <td>PhD</td>\n",
       "      <td>Married</td>\n",
       "      <td>51518</td>\n",
       "      <td>2</td>\n",
       "      <td>1</td>\n",
       "      <td>4</td>\n",
       "      <td>0</td>\n",
       "      <td>GER</td>\n",
       "      <td>65</td>\n",
       "    </tr>\n",
       "    <tr>\n",
       "      <th>1</th>\n",
       "      <td>Graduation</td>\n",
       "      <td>Married</td>\n",
       "      <td>51518</td>\n",
       "      <td>1</td>\n",
       "      <td>0</td>\n",
       "      <td>11</td>\n",
       "      <td>0</td>\n",
       "      <td>US</td>\n",
       "      <td>39</td>\n",
       "    </tr>\n",
       "    <tr>\n",
       "      <th>2</th>\n",
       "      <td>PhD</td>\n",
       "      <td>Married</td>\n",
       "      <td>51518</td>\n",
       "      <td>1</td>\n",
       "      <td>0</td>\n",
       "      <td>17</td>\n",
       "      <td>0</td>\n",
       "      <td>AUS</td>\n",
       "      <td>50</td>\n",
       "    </tr>\n",
       "    <tr>\n",
       "      <th>3</th>\n",
       "      <td>Graduation</td>\n",
       "      <td>Single</td>\n",
       "      <td>51518</td>\n",
       "      <td>1</td>\n",
       "      <td>0</td>\n",
       "      <td>19</td>\n",
       "      <td>0</td>\n",
       "      <td>AUS</td>\n",
       "      <td>36</td>\n",
       "    </tr>\n",
       "    <tr>\n",
       "      <th>4</th>\n",
       "      <td>PhD</td>\n",
       "      <td>Married</td>\n",
       "      <td>51518</td>\n",
       "      <td>0</td>\n",
       "      <td>1</td>\n",
       "      <td>23</td>\n",
       "      <td>0</td>\n",
       "      <td>CA</td>\n",
       "      <td>61</td>\n",
       "    </tr>\n",
       "  </tbody>\n",
       "</table>\n",
       "</div>"
      ],
      "text/plain": [
       "    Education Marital_Status  Income  Kidhome  Teenhome  Recency  Response  \\\n",
       "0         PhD        Married   51518        2         1        4         0   \n",
       "1  Graduation        Married   51518        1         0       11         0   \n",
       "2         PhD        Married   51518        1         0       17         0   \n",
       "3  Graduation         Single   51518        1         0       19         0   \n",
       "4         PhD        Married   51518        0         1       23         0   \n",
       "\n",
       "  Country  Ages  \n",
       "0     GER    65  \n",
       "1      US    39  \n",
       "2     AUS    50  \n",
       "3     AUS    36  \n",
       "4      CA    61  "
      ]
     },
     "execution_count": 8,
     "metadata": {},
     "output_type": "execute_result"
    }
   ],
   "source": [
    "data.head()"
   ]
  },
  {
   "cell_type": "code",
   "execution_count": null,
   "id": "126341df-717f-4e28-954a-5e61862ebeb2",
   "metadata": {
    "id": "126341df-717f-4e28-954a-5e61862ebeb2"
   },
   "outputs": [],
   "source": [
    "# Split the dataset into X , y\n",
    "X=data.drop(['Response'],axis=1)\n",
    "y=data['Response']"
   ]
  },
  {
   "cell_type": "code",
   "execution_count": null,
   "id": "a5b38572-d982-411d-be65-7573f96ef7c2",
   "metadata": {
    "id": "a5b38572-d982-411d-be65-7573f96ef7c2",
    "outputId": "42df1c06-6d23-47d5-e1af-3a35b436b360"
   },
   "outputs": [
    {
     "name": "stdout",
     "output_type": "stream",
     "text": [
      "(39935, 8) (39935,)\n"
     ]
    }
   ],
   "source": [
    "print(X.shape, y.shape)"
   ]
  },
  {
   "cell_type": "code",
   "execution_count": null,
   "id": "5f8570d6-cbec-4855-a806-022392d8fe13",
   "metadata": {
    "id": "5f8570d6-cbec-4855-a806-022392d8fe13",
    "outputId": "a503b548-eff4-4450-dce1-f6f4cd3b88b4"
   },
   "outputs": [
    {
     "data": {
      "text/plain": [
       "array([[0., 0., 0., ..., 2., 1., 0.],\n",
       "       [0., 0., 1., ..., 1., 0., 0.],\n",
       "       [0., 0., 0., ..., 1., 0., 0.],\n",
       "       ...,\n",
       "       [0., 0., 1., ..., 1., 0., 0.],\n",
       "       [0., 0., 1., ..., 0., 0., 0.],\n",
       "       [0., 0., 0., ..., 0., 2., 1.]])"
      ]
     },
     "execution_count": 11,
     "metadata": {},
     "output_type": "execute_result"
    }
   ],
   "source": [
    "#check transform: scale the training data\n",
    "transformer.fit_transform(data)"
   ]
  },
  {
   "cell_type": "code",
   "execution_count": null,
   "id": "c553ed14-990c-4ab6-8187-64ed6ee7200f",
   "metadata": {
    "id": "c553ed14-990c-4ab6-8187-64ed6ee7200f",
    "outputId": "e8bf70f2-889f-448a-8e25-2434ec1e6ede"
   },
   "outputs": [
    {
     "data": {
      "text/html": [
       "<div>\n",
       "<style scoped>\n",
       "    .dataframe tbody tr th:only-of-type {\n",
       "        vertical-align: middle;\n",
       "    }\n",
       "\n",
       "    .dataframe tbody tr th {\n",
       "        vertical-align: top;\n",
       "    }\n",
       "\n",
       "    .dataframe thead th {\n",
       "        text-align: right;\n",
       "    }\n",
       "</style>\n",
       "<table border=\"1\" class=\"dataframe\">\n",
       "  <thead>\n",
       "    <tr style=\"text-align: right;\">\n",
       "      <th></th>\n",
       "      <th>Education</th>\n",
       "      <th>Marital_Status</th>\n",
       "      <th>Income</th>\n",
       "      <th>Kidhome</th>\n",
       "      <th>Teenhome</th>\n",
       "      <th>Recency</th>\n",
       "      <th>Country</th>\n",
       "      <th>Ages</th>\n",
       "    </tr>\n",
       "  </thead>\n",
       "  <tbody>\n",
       "    <tr>\n",
       "      <th>0</th>\n",
       "      <td>PhD</td>\n",
       "      <td>Married</td>\n",
       "      <td>51518</td>\n",
       "      <td>2</td>\n",
       "      <td>1</td>\n",
       "      <td>4</td>\n",
       "      <td>GER</td>\n",
       "      <td>65</td>\n",
       "    </tr>\n",
       "    <tr>\n",
       "      <th>1</th>\n",
       "      <td>Graduation</td>\n",
       "      <td>Married</td>\n",
       "      <td>51518</td>\n",
       "      <td>1</td>\n",
       "      <td>0</td>\n",
       "      <td>11</td>\n",
       "      <td>US</td>\n",
       "      <td>39</td>\n",
       "    </tr>\n",
       "    <tr>\n",
       "      <th>2</th>\n",
       "      <td>PhD</td>\n",
       "      <td>Married</td>\n",
       "      <td>51518</td>\n",
       "      <td>1</td>\n",
       "      <td>0</td>\n",
       "      <td>17</td>\n",
       "      <td>AUS</td>\n",
       "      <td>50</td>\n",
       "    </tr>\n",
       "    <tr>\n",
       "      <th>3</th>\n",
       "      <td>Graduation</td>\n",
       "      <td>Single</td>\n",
       "      <td>51518</td>\n",
       "      <td>1</td>\n",
       "      <td>0</td>\n",
       "      <td>19</td>\n",
       "      <td>AUS</td>\n",
       "      <td>36</td>\n",
       "    </tr>\n",
       "    <tr>\n",
       "      <th>4</th>\n",
       "      <td>PhD</td>\n",
       "      <td>Married</td>\n",
       "      <td>51518</td>\n",
       "      <td>0</td>\n",
       "      <td>1</td>\n",
       "      <td>23</td>\n",
       "      <td>CA</td>\n",
       "      <td>61</td>\n",
       "    </tr>\n",
       "  </tbody>\n",
       "</table>\n",
       "</div>"
      ],
      "text/plain": [
       "    Education Marital_Status  Income  Kidhome  Teenhome  Recency Country  Ages\n",
       "0         PhD        Married   51518        2         1        4     GER    65\n",
       "1  Graduation        Married   51518        1         0       11      US    39\n",
       "2         PhD        Married   51518        1         0       17     AUS    50\n",
       "3  Graduation         Single   51518        1         0       19     AUS    36\n",
       "4         PhD        Married   51518        0         1       23      CA    61"
      ]
     },
     "execution_count": 12,
     "metadata": {},
     "output_type": "execute_result"
    }
   ],
   "source": [
    "X.head()"
   ]
  },
  {
   "cell_type": "code",
   "execution_count": null,
   "id": "07d3348b",
   "metadata": {
    "id": "07d3348b"
   },
   "outputs": [],
   "source": [
    "# Data Splitting: Fit model to training data (70% of dataset) and Evaluate predictions on test data (30% of dataset) "
   ]
  },
  {
   "cell_type": "code",
   "execution_count": null,
   "id": "d93fc25d-ff6d-49b7-b9ff-1245b6d84ea1",
   "metadata": {
    "id": "d93fc25d-ff6d-49b7-b9ff-1245b6d84ea1"
   },
   "outputs": [],
   "source": [
    "# Split dataset into training set (70% of dataset) and test set (30% of dataset)\n",
    "X_train,X_test,y_train,y_test=train_test_split(X,y,stratify=y,test_size=0.3,random_state=2020)"
   ]
  },
  {
   "cell_type": "code",
   "execution_count": null,
   "id": "99d59b34-cd0a-4d52-a4ee-dc53a0f886db",
   "metadata": {
    "id": "99d59b34-cd0a-4d52-a4ee-dc53a0f886db",
    "outputId": "41a287d8-e275-44f8-a632-0c63be5374bc"
   },
   "outputs": [
    {
     "name": "stdout",
     "output_type": "stream",
     "text": [
      "(27954, 8) (11981, 8)\n"
     ]
    }
   ],
   "source": [
    "print(X_train.shape, X_test.shape)"
   ]
  },
  {
   "cell_type": "markdown",
   "id": "7f790af3",
   "metadata": {
    "id": "7f790af3"
   },
   "source": [
    "## Model Prediction"
   ]
  },
  {
   "cell_type": "code",
   "execution_count": null,
   "id": "d02aebc3-d332-4f1c-acc7-36e9cdecd184",
   "metadata": {
    "id": "d02aebc3-d332-4f1c-acc7-36e9cdecd184",
    "outputId": "fa82c444-5f04-4e38-c816-d8abcf8de922"
   },
   "outputs": [
    {
     "data": {
      "text/plain": [
       "0    88.734193\n",
       "1    11.265807\n",
       "Name: Response, dtype: float64"
      ]
     },
     "execution_count": 16,
     "metadata": {},
     "output_type": "execute_result"
    }
   ],
   "source": [
    "#Checking how balanced is our target Data\n",
    "data['Response'].value_counts()/data.shape[0]*100"
   ]
  },
  {
   "cell_type": "raw",
   "id": "d7df8720",
   "metadata": {
    "id": "d7df8720"
   },
   "source": [
    "# Our data is imbalanced, so we will check F1 score instead of accuracy. "
   ]
  },
  {
   "cell_type": "raw",
   "id": "d011d5e5",
   "metadata": {
    "id": "d011d5e5"
   },
   "source": [
    "# We are going to try different Machine learning algorithms to compare the best results. Generally KNN and RandomFprest algorithm performed better than other algorithms in imbalanced data sets. We will also try some resampling techniques of balancing and compare the results.\n",
    "Hence we are trying below algorithms\n",
    "LogisticRegression\n",
    "DecisionTreeClassifier\n",
    "KNeighborsClassifier\n",
    "RandomForestClassifier"
   ]
  },
  {
   "cell_type": "code",
   "execution_count": null,
   "id": "02bd4951-58c6-43c9-9ae6-fdbc38470718",
   "metadata": {
    "id": "02bd4951-58c6-43c9-9ae6-fdbc38470718"
   },
   "outputs": [],
   "source": [
    "# Model selection\n",
    "lr = LogisticRegression()\n",
    "tree = DecisionTreeClassifier(random_state = 2020)\n",
    "knn = KNeighborsClassifier()\n",
    "rf = RandomForestClassifier(random_state = 2020)"
   ]
  },
  {
   "cell_type": "code",
   "execution_count": null,
   "id": "0b223425-42e5-41b7-b871-c82eeddf6d0d",
   "metadata": {
    "id": "0b223425-42e5-41b7-b871-c82eeddf6d0d"
   },
   "outputs": [],
   "source": [
    "# creating pipeline\n",
    "lr_pipe = Pipeline([\n",
    "    ('transform',transformer),\n",
    "    ('lr',lr)\n",
    "])\n",
    "\n",
    "tree_pipe= Pipeline([\n",
    "    ('transform',transformer),\n",
    "    ('tree',tree)\n",
    "])\n",
    "\n",
    "knn_pipe =Pipeline([\n",
    "    ('transform',transformer),\n",
    "    ('knn',knn)\n",
    "])\n",
    "\n",
    "rf_pipe = Pipeline([\n",
    "    ('transform',transformer),\n",
    "    ('rf',rf)\n",
    "])"
   ]
  },
  {
   "cell_type": "code",
   "execution_count": null,
   "id": "28535337-1163-445a-895a-4aca631171d3",
   "metadata": {
    "id": "28535337-1163-445a-895a-4aca631171d3",
    "outputId": "ba415405-dbb7-4cf0-f8f0-f0343818686c"
   },
   "outputs": [
    {
     "data": {
      "text/html": [
       "<div>\n",
       "<style scoped>\n",
       "    .dataframe tbody tr th:only-of-type {\n",
       "        vertical-align: middle;\n",
       "    }\n",
       "\n",
       "    .dataframe tbody tr th {\n",
       "        vertical-align: top;\n",
       "    }\n",
       "\n",
       "    .dataframe thead th {\n",
       "        text-align: right;\n",
       "    }\n",
       "</style>\n",
       "<table border=\"1\" class=\"dataframe\">\n",
       "  <thead>\n",
       "    <tr style=\"text-align: right;\">\n",
       "      <th></th>\n",
       "      <th>method</th>\n",
       "      <th>mean score</th>\n",
       "      <th>std score</th>\n",
       "      <th>precision score</th>\n",
       "      <th>f1 score</th>\n",
       "    </tr>\n",
       "  </thead>\n",
       "  <tbody>\n",
       "    <tr>\n",
       "      <th>0</th>\n",
       "      <td>Logistic Regression</td>\n",
       "      <td>0.000000</td>\n",
       "      <td>0.000000</td>\n",
       "      <td>0.000000</td>\n",
       "      <td>0.000000</td>\n",
       "    </tr>\n",
       "    <tr>\n",
       "      <th>1</th>\n",
       "      <td>Decision Tree Classifier</td>\n",
       "      <td>0.956315</td>\n",
       "      <td>0.013380</td>\n",
       "      <td>0.968727</td>\n",
       "      <td>0.966209</td>\n",
       "    </tr>\n",
       "    <tr>\n",
       "      <th>2</th>\n",
       "      <td>KNN Classifier</td>\n",
       "      <td>0.972901</td>\n",
       "      <td>0.006715</td>\n",
       "      <td>0.984906</td>\n",
       "      <td>0.975701</td>\n",
       "    </tr>\n",
       "    <tr>\n",
       "      <th>3</th>\n",
       "      <td>Random Forest Classifier</td>\n",
       "      <td>0.982673</td>\n",
       "      <td>0.007802</td>\n",
       "      <td>0.986228</td>\n",
       "      <td>0.970267</td>\n",
       "    </tr>\n",
       "  </tbody>\n",
       "</table>\n",
       "</div>"
      ],
      "text/plain": [
       "                     method  mean score  std score  precision score  f1 score\n",
       "0       Logistic Regression    0.000000   0.000000         0.000000  0.000000\n",
       "1  Decision Tree Classifier    0.956315   0.013380         0.968727  0.966209\n",
       "2            KNN Classifier    0.972901   0.006715         0.984906  0.975701\n",
       "3  Random Forest Classifier    0.982673   0.007802         0.986228  0.970267"
      ]
     },
     "execution_count": 19,
     "metadata": {},
     "output_type": "execute_result"
    }
   ],
   "source": [
    "def model_evaluation(model, metric):\n",
    "    skfold = StratifiedKFold(n_splits = 5)\n",
    "    model_cv = cross_val_score(model, X_train, y_train, cv = skfold, scoring = metric)\n",
    "    return model_cv\n",
    "\n",
    "lr_pipe_cv = model_evaluation(lr_pipe, 'precision')\n",
    "tree_pipe_cv = model_evaluation(tree_pipe, 'precision')\n",
    "knn_pipe_cv = model_evaluation(knn_pipe, 'precision')\n",
    "rf_pipe_cv = model_evaluation(rf_pipe, 'precision')\n",
    "\n",
    "for model in [lr_pipe,tree_pipe, knn_pipe,rf_pipe]:\n",
    "    model.fit(X_train, y_train)\n",
    "    \n",
    "score_mean = [lr_pipe_cv.mean(),tree_pipe_cv.mean(),knn_pipe_cv.mean(),rf_pipe_cv.mean()]\n",
    "score_std = [lr_pipe_cv.std(),tree_pipe_cv.std(),knn_pipe_cv.std(),rf_pipe_cv.std()]\n",
    "score_precision_score = [precision_score(y_test, lr_pipe.predict(X_test)),\n",
    "                         precision_score(y_test, tree_pipe.predict(X_test)),\n",
    "            precision_score(y_test, knn_pipe.predict(X_test)),\n",
    "            precision_score(y_test, rf_pipe.predict(X_test))]\n",
    "score_f1_score = [f1_score(y_test, lr_pipe.predict(X_test)),f1_score(y_test, tree_pipe.predict(X_test)),\n",
    "                        f1_score(y_test, knn_pipe.predict(X_test)),f1_score(y_test, rf_pipe.predict(X_test))]\n",
    "method_name = ['Logistic Regression','Decision Tree Classifier','KNN Classifier', 'Random Forest Classifier']\n",
    "cv_result = pd.DataFrame({\n",
    "    'method': method_name,\n",
    "    'mean score': score_mean,\n",
    "    'std score': score_std,\n",
    "    'precision score': score_precision_score,\n",
    "    'f1 score': score_f1_score,\n",
    "})\n",
    "cv_result"
   ]
  },
  {
   "cell_type": "code",
   "execution_count": null,
   "id": "f623f51a",
   "metadata": {
    "id": "f623f51a",
    "outputId": "ca66beb5-f022-4c03-d36e-86136cc631b9"
   },
   "outputs": [
    {
     "name": "stdout",
     "output_type": "stream",
     "text": [
      "              precision    recall  f1-score   support\n",
      "\n",
      "           0       1.00      1.00      1.00     10631\n",
      "           1       0.98      0.97      0.98      1350\n",
      "\n",
      "    accuracy                           0.99     11981\n",
      "   macro avg       0.99      0.98      0.99     11981\n",
      "weighted avg       0.99      0.99      0.99     11981\n",
      "\n",
      "[[10611    20]\n",
      " [   45  1305]]\n"
     ]
    }
   ],
   "source": [
    "# confusion matrix KNN\n",
    "knn_pipe.fit(X_train, y_train)\n",
    "ypred=knn_pipe.predict(X_test)\n",
    "\n",
    "print(classification_report(y_test,ypred))\n",
    "print(metrics.confusion_matrix(y_test,ypred))"
   ]
  },
  {
   "cell_type": "raw",
   "id": "36ecc839",
   "metadata": {
    "id": "36ecc839"
   },
   "source": [
    "knn_pipe.fit(X_train, y_train)\n",
    "y_pred_estimator = knn_pipe.predict(X_test)\n",
    "precision_estimator = precision_score(y_test, knn_pipe.predict(X_test))\n",
    "f1_estimator = f1_score(y_test, y_pred_estimator, average='binary')\n",
    "\n",
    "train_pred = knn_pipe.predict(X_train) #prediction on trained data\n",
    "print(X_train.shape, y_test.shape, train_pred.shape)\n",
    "train_precision_estimator = precision_score(y_train, train_pred)\n",
    "train_f1_estimator = f1_score(y_train, train_pred)\n",
    "\n",
    "score_list = [precision_estimator, f1_estimator, train_precision_estimator,train_f1_estimator]\n",
    "method_name = ['KNN Classifier_Test', 'KNN Classifier_Train']\n",
    "best_summary = pd.DataFrame({\n",
    "    'method': method_name,\n",
    "    'score': score_list\n",
    "})\n",
    "best_summary"
   ]
  },
  {
   "cell_type": "code",
   "execution_count": null,
   "id": "742433c8",
   "metadata": {
    "id": "742433c8",
    "outputId": "d339435e-32ff-4851-b43b-a78dfbefb8dc"
   },
   "outputs": [
    {
     "name": "stdout",
     "output_type": "stream",
     "text": [
      "              precision    recall  f1-score   support\n",
      "\n",
      "           0       0.99      1.00      1.00     10631\n",
      "           1       0.99      0.95      0.97      1350\n",
      "\n",
      "    accuracy                           0.99     11981\n",
      "   macro avg       0.99      0.98      0.98     11981\n",
      "weighted avg       0.99      0.99      0.99     11981\n",
      "\n",
      "[[10613    18]\n",
      " [   61  1289]]\n"
     ]
    }
   ],
   "source": [
    "# confusion matrix RANDOM forest classifier\n",
    "rf_pipe.fit(X_train, y_train)\n",
    "ypred=rf_pipe.predict(X_test)\n",
    "\n",
    "print(classification_report(y_test,ypred))\n",
    "print(metrics.confusion_matrix(y_test,ypred))"
   ]
  },
  {
   "cell_type": "raw",
   "id": "837dea83-5f12-4457-9279-557a20e03c44",
   "metadata": {
    "id": "837dea83-5f12-4457-9279-557a20e03c44"
   },
   "source": [
    "Handling Imbalance Dataset: Random Resampling Imbalanced Datasets"
   ]
  },
  {
   "cell_type": "raw",
   "id": "6829187d-4c9d-497e-a8b4-bd5881eae927",
   "metadata": {
    "id": "6829187d-4c9d-497e-a8b4-bd5881eae927"
   },
   "source": [
    "Random Under Sampling: Random undersampling involves randomly selecting examples from the majority class and deleting them from the training dataset."
   ]
  },
  {
   "cell_type": "code",
   "execution_count": null,
   "id": "fb5a2be2-b627-4af4-9ef5-9485cdba2ab7",
   "metadata": {
    "id": "fb5a2be2-b627-4af4-9ef5-9485cdba2ab7"
   },
   "outputs": [],
   "source": [
    "rus = RandomUnderSampler(random_state = 2020)\n",
    "X_under, y_under = rus.fit_resample(X_train, y_train) "
   ]
  },
  {
   "cell_type": "code",
   "execution_count": null,
   "id": "52159902-c8a9-484a-91a6-c9f207fafdc3",
   "metadata": {
    "id": "52159902-c8a9-484a-91a6-c9f207fafdc3"
   },
   "outputs": [],
   "source": [
    "lr_pipe_under = Pipeline([\n",
    "    ('transformer', transformer),\n",
    "    ('rus', rus),\n",
    "    ('lr', lr)\n",
    "])\n",
    "\n",
    "tree_pipe_under = Pipeline([\n",
    "    ('transformer', transformer),\n",
    "    ('rus', rus),\n",
    "    ('tree', tree)\n",
    "])\n",
    "\n",
    "knn_pipe_under = Pipeline([\n",
    "    ('transformer', transformer),\n",
    "    ('rus', rus),\n",
    "    ('knn', knn)\n",
    "])\n",
    "rf_pipe_under = Pipeline([\n",
    "    ('transformer', transformer),\n",
    "    ('rus', rus),\n",
    "    ('rf', rf)\n",
    "])"
   ]
  },
  {
   "cell_type": "code",
   "execution_count": null,
   "id": "c2f7b309-8348-4562-b50e-c024c6895d8c",
   "metadata": {
    "id": "c2f7b309-8348-4562-b50e-c024c6895d8c",
    "outputId": "bb576cdc-71ec-40ee-abe7-3639ece719f2"
   },
   "outputs": [
    {
     "data": {
      "text/html": [
       "<div>\n",
       "<style scoped>\n",
       "    .dataframe tbody tr th:only-of-type {\n",
       "        vertical-align: middle;\n",
       "    }\n",
       "\n",
       "    .dataframe tbody tr th {\n",
       "        vertical-align: top;\n",
       "    }\n",
       "\n",
       "    .dataframe thead th {\n",
       "        text-align: right;\n",
       "    }\n",
       "</style>\n",
       "<table border=\"1\" class=\"dataframe\">\n",
       "  <thead>\n",
       "    <tr style=\"text-align: right;\">\n",
       "      <th></th>\n",
       "      <th>method</th>\n",
       "      <th>mean score</th>\n",
       "      <th>std score</th>\n",
       "      <th>precision score</th>\n",
       "      <th>f1 score</th>\n",
       "    </tr>\n",
       "  </thead>\n",
       "  <tbody>\n",
       "    <tr>\n",
       "      <th>0</th>\n",
       "      <td>Logistic Regression UnderSampling</td>\n",
       "      <td>0.112649</td>\n",
       "      <td>0.000063</td>\n",
       "      <td>0.112678</td>\n",
       "      <td>0.202535</td>\n",
       "    </tr>\n",
       "    <tr>\n",
       "      <th>1</th>\n",
       "      <td>Decision Tree Classifier UnderSampling</td>\n",
       "      <td>0.820575</td>\n",
       "      <td>0.008652</td>\n",
       "      <td>0.843212</td>\n",
       "      <td>0.906475</td>\n",
       "    </tr>\n",
       "    <tr>\n",
       "      <th>2</th>\n",
       "      <td>KNN Classifier UnderSampling</td>\n",
       "      <td>0.543427</td>\n",
       "      <td>0.007016</td>\n",
       "      <td>0.619361</td>\n",
       "      <td>0.757907</td>\n",
       "    </tr>\n",
       "    <tr>\n",
       "      <th>3</th>\n",
       "      <td>Random Forest Classifier UnderSampling</td>\n",
       "      <td>0.884212</td>\n",
       "      <td>0.013374</td>\n",
       "      <td>0.898700</td>\n",
       "      <td>0.934187</td>\n",
       "    </tr>\n",
       "  </tbody>\n",
       "</table>\n",
       "</div>"
      ],
      "text/plain": [
       "                                   method  mean score  std score  \\\n",
       "0       Logistic Regression UnderSampling    0.112649   0.000063   \n",
       "1  Decision Tree Classifier UnderSampling    0.820575   0.008652   \n",
       "2            KNN Classifier UnderSampling    0.543427   0.007016   \n",
       "3  Random Forest Classifier UnderSampling    0.884212   0.013374   \n",
       "\n",
       "   precision score  f1 score  \n",
       "0         0.112678  0.202535  \n",
       "1         0.843212  0.906475  \n",
       "2         0.619361  0.757907  \n",
       "3         0.898700  0.934187  "
      ]
     },
     "execution_count": 24,
     "metadata": {},
     "output_type": "execute_result"
    }
   ],
   "source": [
    "def model_evaluation(model, metric):\n",
    "    skfold = StratifiedKFold(n_splits = 5)\n",
    "    model_cv = cross_val_score(model, X_train, y_train, cv = skfold, scoring = metric) \n",
    "    return model_cv\n",
    "\n",
    "lr_under_cv = model_evaluation(lr_pipe_under, 'precision') \n",
    "tree_under_cv = model_evaluation(tree_pipe_under, 'precision')\n",
    "knn_under_cv = model_evaluation(knn_pipe_under, 'precision')\n",
    "rf_under_cv = model_evaluation(rf_pipe_under, 'precision')\n",
    "\n",
    "for model in [lr_pipe_under, tree_pipe_under, knn_pipe_under, rf_pipe_under]:\n",
    "    model.fit(X_train, y_train)\n",
    "\n",
    "score_mean = [lr_under_cv.mean(), tree_under_cv.mean(), knn_under_cv.mean(),\n",
    "              rf_under_cv.mean()]\n",
    "score_std = [lr_under_cv.std(), tree_under_cv.std(), knn_under_cv.std(),\n",
    "             rf_under_cv.std()]\n",
    "score_precision_score = [precision_score(y_test, lr_pipe_under.predict(X_test)),\n",
    "            precision_score(y_test, tree_pipe_under.predict(X_test)), \n",
    "            precision_score(y_test, knn_pipe_under.predict(X_test)), \n",
    "            precision_score(y_test, rf_pipe_under.predict(X_test))]\n",
    "score_f1_score = [f1_score(y_test, lr_pipe_under.predict(X_test)),f1_score(y_test, tree_pipe_under.predict(X_test)),\n",
    "                        f1_score(y_test, knn_pipe_under.predict(X_test)),f1_score(y_test, rf_pipe_under.predict(X_test))]\n",
    "method_name = ['Logistic Regression UnderSampling', 'Decision Tree Classifier UnderSampling',\n",
    "              'KNN Classifier UnderSampling', 'Random Forest Classifier UnderSampling']\n",
    "under_result = pd.DataFrame({\n",
    "    'method': method_name,\n",
    "    'mean score': score_mean,\n",
    "    'std score': score_std,\n",
    "    'precision score': score_precision_score,\n",
    "    'f1 score': score_f1_score,\n",
    "})\n",
    "under_result"
   ]
  },
  {
   "cell_type": "raw",
   "id": "289ed8b7-a77d-49bc-908b-2cdea13de791",
   "metadata": {
    "id": "289ed8b7-a77d-49bc-908b-2cdea13de791"
   },
   "source": [
    "# Random Over Sampling: Random oversampling involves randomly selecting examples from the minority class, with replacement, and adding them to the training dataset."
   ]
  },
  {
   "cell_type": "code",
   "execution_count": null,
   "id": "f1fb00d4-f1dc-4904-8607-19d66907c78a",
   "metadata": {
    "id": "f1fb00d4-f1dc-4904-8607-19d66907c78a"
   },
   "outputs": [],
   "source": [
    "ros = RandomOverSampler(random_state = 2020)\n",
    "X_over, y_over = ros.fit_resample(X_train, y_train)"
   ]
  },
  {
   "cell_type": "code",
   "execution_count": null,
   "id": "f0f47365-3132-48d6-8e91-9b36b92fbb2c",
   "metadata": {
    "id": "f0f47365-3132-48d6-8e91-9b36b92fbb2c"
   },
   "outputs": [],
   "source": [
    "lr_pipe_over = Pipeline([\n",
    "    ('transformer', transformer),\n",
    "    ('ros', ros), \n",
    "    ('lr', lr)\n",
    "])\n",
    "\n",
    "tree_pipe_over = Pipeline([\n",
    "    ('transformer', transformer),\n",
    "    ('ros', ros), \n",
    "    ('tree', tree)\n",
    "])\n",
    "\n",
    "knn_pipe_over = Pipeline([\n",
    "    ('transformer', transformer),\n",
    "    ('ros', ros), \n",
    "    ('knn', knn)\n",
    "])\n",
    "\n",
    "rf_pipe_over = Pipeline([\n",
    "    ('transformer', transformer),\n",
    "    ('ros', ros),\n",
    "    ('rf', rf)\n",
    "])"
   ]
  },
  {
   "cell_type": "code",
   "execution_count": null,
   "id": "b024d5e5-9756-422d-b39c-5130fadcbee4",
   "metadata": {
    "id": "b024d5e5-9756-422d-b39c-5130fadcbee4",
    "outputId": "67f7e154-170e-4e0e-d855-6e1863360442"
   },
   "outputs": [
    {
     "data": {
      "text/html": [
       "<div>\n",
       "<style scoped>\n",
       "    .dataframe tbody tr th:only-of-type {\n",
       "        vertical-align: middle;\n",
       "    }\n",
       "\n",
       "    .dataframe tbody tr th {\n",
       "        vertical-align: top;\n",
       "    }\n",
       "\n",
       "    .dataframe thead th {\n",
       "        text-align: right;\n",
       "    }\n",
       "</style>\n",
       "<table border=\"1\" class=\"dataframe\">\n",
       "  <thead>\n",
       "    <tr style=\"text-align: right;\">\n",
       "      <th></th>\n",
       "      <th>method</th>\n",
       "      <th>mean score</th>\n",
       "      <th>std score</th>\n",
       "      <th>precision score</th>\n",
       "      <th>f1 score</th>\n",
       "    </tr>\n",
       "  </thead>\n",
       "  <tbody>\n",
       "    <tr>\n",
       "      <th>0</th>\n",
       "      <td>Logistic Regression OverSampling</td>\n",
       "      <td>0.112649</td>\n",
       "      <td>0.000063</td>\n",
       "      <td>0.112678</td>\n",
       "      <td>0.202535</td>\n",
       "    </tr>\n",
       "    <tr>\n",
       "      <th>1</th>\n",
       "      <td>Decision Tree Classifier OverSampling</td>\n",
       "      <td>0.951883</td>\n",
       "      <td>0.007531</td>\n",
       "      <td>0.962610</td>\n",
       "      <td>0.967576</td>\n",
       "    </tr>\n",
       "    <tr>\n",
       "      <th>2</th>\n",
       "      <td>KNN Classifier OverSampling</td>\n",
       "      <td>0.956961</td>\n",
       "      <td>0.006760</td>\n",
       "      <td>0.968452</td>\n",
       "      <td>0.973093</td>\n",
       "    </tr>\n",
       "    <tr>\n",
       "      <th>3</th>\n",
       "      <td>Random Forest Classifier OverSampling</td>\n",
       "      <td>0.965865</td>\n",
       "      <td>0.005242</td>\n",
       "      <td>0.978261</td>\n",
       "      <td>0.972429</td>\n",
       "    </tr>\n",
       "  </tbody>\n",
       "</table>\n",
       "</div>"
      ],
      "text/plain": [
       "                                  method  mean score  std score  \\\n",
       "0       Logistic Regression OverSampling    0.112649   0.000063   \n",
       "1  Decision Tree Classifier OverSampling    0.951883   0.007531   \n",
       "2            KNN Classifier OverSampling    0.956961   0.006760   \n",
       "3  Random Forest Classifier OverSampling    0.965865   0.005242   \n",
       "\n",
       "   precision score  f1 score  \n",
       "0         0.112678  0.202535  \n",
       "1         0.962610  0.967576  \n",
       "2         0.968452  0.973093  \n",
       "3         0.978261  0.972429  "
      ]
     },
     "execution_count": 27,
     "metadata": {},
     "output_type": "execute_result"
    }
   ],
   "source": [
    "def model_evaluation(model, metric):\n",
    "    skfold = StratifiedKFold(n_splits = 5)\n",
    "    model_cv = cross_val_score(model, X_train, y_train, cv = skfold, scoring = metric)\n",
    "    return model_cv\n",
    "\n",
    "lr_over_cv = model_evaluation(lr_pipe_over, 'precision') \n",
    "tree_over_cv = model_evaluation(tree_pipe_over, 'precision')\n",
    "knn_over_cv = model_evaluation(knn_pipe_over, 'precision')\n",
    "rf_over_cv = model_evaluation(rf_pipe_over, 'precision')\n",
    "\n",
    "for model in [lr_pipe_over, tree_pipe_over, knn_pipe_over, rf_pipe_over]:\n",
    "    model.fit(X_train, y_train)\n",
    "\n",
    "score_mean = [lr_over_cv.mean(), tree_over_cv.mean(), knn_over_cv.mean(),\n",
    "               rf_over_cv.mean()]\n",
    "score_std = [lr_over_cv.std(), tree_over_cv.std(), knn_over_cv.std(),\n",
    "             rf_over_cv.std()]\n",
    "score_precision_score = [precision_score(y_test, lr_pipe_over.predict(X_test)),\n",
    "            precision_score(y_test, tree_pipe_over.predict(X_test)), \n",
    "            precision_score(y_test, knn_pipe_over.predict(X_test)), \n",
    "            precision_score(y_test, rf_pipe_over.predict(X_test))]\n",
    "score_f1_score = [f1_score(y_test, lr_pipe_over.predict(X_test)),f1_score(y_test, tree_pipe_over.predict(X_test)),\n",
    "                        f1_score(y_test, knn_pipe_over.predict(X_test)),f1_score(y_test, rf_pipe_over.predict(X_test))]\n",
    "method_name = ['Logistic Regression OverSampling', 'Decision Tree Classifier OverSampling',\n",
    "              'KNN Classifier OverSampling', 'Random Forest Classifier OverSampling']\n",
    "over_summary = pd.DataFrame({\n",
    "    'method': method_name,\n",
    "    'mean score': score_mean,\n",
    "    'std score': score_std,\n",
    "    'precision score': score_precision_score,\n",
    "    'f1 score': score_f1_score,\n",
    "})\n",
    "over_summary"
   ]
  },
  {
   "cell_type": "raw",
   "id": "d34ad047-0cfb-49d4-af64-cc455f769171",
   "metadata": {
    "id": "d34ad047-0cfb-49d4-af64-cc455f769171"
   },
   "source": [
    "#NearMiss: NearMiss Algorithm – Undersampling-\n",
    "NearMiss – Version 1 : It selects samples of the majority class for which average distances to the k closest instances of the minority class is smallest."
   ]
  },
  {
   "cell_type": "code",
   "execution_count": null,
   "id": "5b4c8cb6-c0b4-4adc-accd-8cd68e2097dc",
   "metadata": {
    "id": "5b4c8cb6-c0b4-4adc-accd-8cd68e2097dc"
   },
   "outputs": [],
   "source": [
    "nm = NearMiss(version = 1)"
   ]
  },
  {
   "cell_type": "code",
   "execution_count": null,
   "id": "e86872b7-a239-43d0-95e1-a050b3b837b5",
   "metadata": {
    "id": "e86872b7-a239-43d0-95e1-a050b3b837b5"
   },
   "outputs": [],
   "source": [
    "lr_pipe_nm = Pipeline([\n",
    "    ('transformer', transformer),\n",
    "    ('nm', nm),\n",
    "    ('lr', lr)\n",
    "])\n",
    "\n",
    "tree_pipe_nm = Pipeline([\n",
    "    ('transformer', transformer),\n",
    "    ('nm', nm),\n",
    "    ('tree', tree)\n",
    "])\n",
    "\n",
    "knn_pipe_nm = Pipeline([\n",
    "    ('transformer', transformer),\n",
    "    ('nm', nm),\n",
    "    ('knn', knn)\n",
    "])\n",
    "\n",
    "rf_pipe_nm = Pipeline([\n",
    "    ('transformer', transformer),\n",
    "    ('nm', nm),\n",
    "    ('rf', rf)\n",
    "])"
   ]
  },
  {
   "cell_type": "code",
   "execution_count": null,
   "id": "6ba81688-f943-46a7-82e3-03ab8fa89986",
   "metadata": {
    "id": "6ba81688-f943-46a7-82e3-03ab8fa89986",
    "outputId": "6b8f13a9-06db-4567-f9ab-89bc7eaab991"
   },
   "outputs": [
    {
     "data": {
      "text/html": [
       "<div>\n",
       "<style scoped>\n",
       "    .dataframe tbody tr th:only-of-type {\n",
       "        vertical-align: middle;\n",
       "    }\n",
       "\n",
       "    .dataframe tbody tr th {\n",
       "        vertical-align: top;\n",
       "    }\n",
       "\n",
       "    .dataframe thead th {\n",
       "        text-align: right;\n",
       "    }\n",
       "</style>\n",
       "<table border=\"1\" class=\"dataframe\">\n",
       "  <thead>\n",
       "    <tr style=\"text-align: right;\">\n",
       "      <th></th>\n",
       "      <th>method</th>\n",
       "      <th>mean score</th>\n",
       "      <th>std score</th>\n",
       "      <th>precision score</th>\n",
       "      <th>f1 score</th>\n",
       "    </tr>\n",
       "  </thead>\n",
       "  <tbody>\n",
       "    <tr>\n",
       "      <th>0</th>\n",
       "      <td>Logistic Regression NearMiss</td>\n",
       "      <td>0.152040</td>\n",
       "      <td>0.048209</td>\n",
       "      <td>0.112678</td>\n",
       "      <td>0.202535</td>\n",
       "    </tr>\n",
       "    <tr>\n",
       "      <th>1</th>\n",
       "      <td>Decision Tree Classifier NearMiss</td>\n",
       "      <td>0.252399</td>\n",
       "      <td>0.006228</td>\n",
       "      <td>0.251047</td>\n",
       "      <td>0.399455</td>\n",
       "    </tr>\n",
       "    <tr>\n",
       "      <th>2</th>\n",
       "      <td>KNN Classifier NearMiss</td>\n",
       "      <td>0.191867</td>\n",
       "      <td>0.004097</td>\n",
       "      <td>0.190662</td>\n",
       "      <td>0.319061</td>\n",
       "    </tr>\n",
       "    <tr>\n",
       "      <th>3</th>\n",
       "      <td>Random Forest Classifier NearMiss</td>\n",
       "      <td>0.275557</td>\n",
       "      <td>0.005598</td>\n",
       "      <td>0.283871</td>\n",
       "      <td>0.440000</td>\n",
       "    </tr>\n",
       "  </tbody>\n",
       "</table>\n",
       "</div>"
      ],
      "text/plain": [
       "                              method  mean score  std score  precision score  \\\n",
       "0       Logistic Regression NearMiss    0.152040   0.048209         0.112678   \n",
       "1  Decision Tree Classifier NearMiss    0.252399   0.006228         0.251047   \n",
       "2            KNN Classifier NearMiss    0.191867   0.004097         0.190662   \n",
       "3  Random Forest Classifier NearMiss    0.275557   0.005598         0.283871   \n",
       "\n",
       "   f1 score  \n",
       "0  0.202535  \n",
       "1  0.399455  \n",
       "2  0.319061  \n",
       "3  0.440000  "
      ]
     },
     "execution_count": 30,
     "metadata": {},
     "output_type": "execute_result"
    }
   ],
   "source": [
    "def model_evaluation(model, metric):\n",
    "    skfold = StratifiedKFold(n_splits = 5)\n",
    "    model_cv = cross_val_score(model, X_train, y_train, cv = skfold, scoring = metric)\n",
    "    return model_cv\n",
    "\n",
    "lr_nm_cv = model_evaluation(lr_pipe_nm, 'precision') \n",
    "tree_nm_cv = model_evaluation(tree_pipe_nm, 'precision')\n",
    "knn_nm_cv = model_evaluation(knn_pipe_nm, 'precision')\n",
    "rf_nm_cv = model_evaluation(rf_pipe_nm, 'precision')\n",
    "\n",
    "for model in [lr_pipe_nm, tree_pipe_nm, knn_pipe_nm, rf_pipe_nm]:\n",
    "    model.fit(X_train, y_train)\n",
    "    \n",
    "score_mean = [lr_nm_cv.mean(), tree_nm_cv.mean(), knn_nm_cv.mean(),\n",
    "              rf_nm_cv.mean()]\n",
    "score_std = [lr_nm_cv.std(), tree_nm_cv.std(), knn_nm_cv.std(),\n",
    "             rf_nm_cv.std()]\n",
    "score_precision_score = [precision_score(y_test, lr_pipe_nm.predict(X_test)),\n",
    "                         precision_score(y_test, tree_pipe_nm.predict(X_test)), \n",
    "            precision_score(y_test, knn_pipe_nm.predict(X_test)), \n",
    "            precision_score(y_test, rf_pipe_nm.predict(X_test))]\n",
    "score_f1_score = [f1_score(y_test, lr_pipe_nm.predict(X_test)),f1_score(y_test, tree_pipe_nm.predict(X_test)),\n",
    "                        f1_score(y_test, knn_pipe_nm.predict(X_test)),f1_score(y_test, rf_pipe_nm.predict(X_test))]\n",
    "method_name = ['Logistic Regression NearMiss', 'Decision Tree Classifier NearMiss',\n",
    "              'KNN Classifier NearMiss', 'Random Forest Classifier NearMiss']\n",
    "nm_summary = pd.DataFrame({\n",
    "    'method': method_name,\n",
    "    'mean score': score_mean,\n",
    "    'std score': score_std,\n",
    "    'precision score': score_precision_score,\n",
    "    'f1 score': score_f1_score,\n",
    "})\n",
    "nm_summary"
   ]
  },
  {
   "cell_type": "code",
   "execution_count": null,
   "id": "03ae35f7-aa77-4dee-949c-c124c6afeedc",
   "metadata": {
    "id": "03ae35f7-aa77-4dee-949c-c124c6afeedc",
    "outputId": "b854117b-0601-45db-bc82-94acb3ddb1ce"
   },
   "outputs": [
    {
     "data": {
      "text/html": [
       "<div>\n",
       "<style scoped>\n",
       "    .dataframe tbody tr th:only-of-type {\n",
       "        vertical-align: middle;\n",
       "    }\n",
       "\n",
       "    .dataframe tbody tr th {\n",
       "        vertical-align: top;\n",
       "    }\n",
       "\n",
       "    .dataframe thead th {\n",
       "        text-align: right;\n",
       "    }\n",
       "</style>\n",
       "<table border=\"1\" class=\"dataframe\">\n",
       "  <thead>\n",
       "    <tr style=\"text-align: right;\">\n",
       "      <th></th>\n",
       "      <th>method</th>\n",
       "      <th>mean score</th>\n",
       "      <th>std score</th>\n",
       "      <th>precision score</th>\n",
       "      <th>f1 score</th>\n",
       "    </tr>\n",
       "  </thead>\n",
       "  <tbody>\n",
       "    <tr>\n",
       "      <th>0</th>\n",
       "      <td>Logistic Regression UnderSampling</td>\n",
       "      <td>0.112649</td>\n",
       "      <td>0.000063</td>\n",
       "      <td>0.112678</td>\n",
       "      <td>0.202535</td>\n",
       "    </tr>\n",
       "    <tr>\n",
       "      <th>1</th>\n",
       "      <td>Decision Tree Classifier UnderSampling</td>\n",
       "      <td>0.820575</td>\n",
       "      <td>0.008652</td>\n",
       "      <td>0.843212</td>\n",
       "      <td>0.906475</td>\n",
       "    </tr>\n",
       "    <tr>\n",
       "      <th>2</th>\n",
       "      <td>KNN Classifier UnderSampling</td>\n",
       "      <td>0.543427</td>\n",
       "      <td>0.007016</td>\n",
       "      <td>0.619361</td>\n",
       "      <td>0.757907</td>\n",
       "    </tr>\n",
       "    <tr>\n",
       "      <th>3</th>\n",
       "      <td>Random Forest Classifier UnderSampling</td>\n",
       "      <td>0.884212</td>\n",
       "      <td>0.013374</td>\n",
       "      <td>0.898700</td>\n",
       "      <td>0.934187</td>\n",
       "    </tr>\n",
       "    <tr>\n",
       "      <th>0</th>\n",
       "      <td>Logistic Regression OverSampling</td>\n",
       "      <td>0.112649</td>\n",
       "      <td>0.000063</td>\n",
       "      <td>0.112678</td>\n",
       "      <td>0.202535</td>\n",
       "    </tr>\n",
       "    <tr>\n",
       "      <th>1</th>\n",
       "      <td>Decision Tree Classifier OverSampling</td>\n",
       "      <td>0.951883</td>\n",
       "      <td>0.007531</td>\n",
       "      <td>0.962610</td>\n",
       "      <td>0.967576</td>\n",
       "    </tr>\n",
       "    <tr>\n",
       "      <th>2</th>\n",
       "      <td>KNN Classifier OverSampling</td>\n",
       "      <td>0.956961</td>\n",
       "      <td>0.006760</td>\n",
       "      <td>0.968452</td>\n",
       "      <td>0.973093</td>\n",
       "    </tr>\n",
       "    <tr>\n",
       "      <th>3</th>\n",
       "      <td>Random Forest Classifier OverSampling</td>\n",
       "      <td>0.965865</td>\n",
       "      <td>0.005242</td>\n",
       "      <td>0.978261</td>\n",
       "      <td>0.972429</td>\n",
       "    </tr>\n",
       "    <tr>\n",
       "      <th>0</th>\n",
       "      <td>Logistic Regression NearMiss</td>\n",
       "      <td>0.152040</td>\n",
       "      <td>0.048209</td>\n",
       "      <td>0.112678</td>\n",
       "      <td>0.202535</td>\n",
       "    </tr>\n",
       "    <tr>\n",
       "      <th>1</th>\n",
       "      <td>Decision Tree Classifier NearMiss</td>\n",
       "      <td>0.252399</td>\n",
       "      <td>0.006228</td>\n",
       "      <td>0.251047</td>\n",
       "      <td>0.399455</td>\n",
       "    </tr>\n",
       "    <tr>\n",
       "      <th>2</th>\n",
       "      <td>KNN Classifier NearMiss</td>\n",
       "      <td>0.191867</td>\n",
       "      <td>0.004097</td>\n",
       "      <td>0.190662</td>\n",
       "      <td>0.319061</td>\n",
       "    </tr>\n",
       "    <tr>\n",
       "      <th>3</th>\n",
       "      <td>Random Forest Classifier NearMiss</td>\n",
       "      <td>0.275557</td>\n",
       "      <td>0.005598</td>\n",
       "      <td>0.283871</td>\n",
       "      <td>0.440000</td>\n",
       "    </tr>\n",
       "  </tbody>\n",
       "</table>\n",
       "</div>"
      ],
      "text/plain": [
       "                                   method  mean score  std score  \\\n",
       "0       Logistic Regression UnderSampling    0.112649   0.000063   \n",
       "1  Decision Tree Classifier UnderSampling    0.820575   0.008652   \n",
       "2            KNN Classifier UnderSampling    0.543427   0.007016   \n",
       "3  Random Forest Classifier UnderSampling    0.884212   0.013374   \n",
       "0        Logistic Regression OverSampling    0.112649   0.000063   \n",
       "1   Decision Tree Classifier OverSampling    0.951883   0.007531   \n",
       "2             KNN Classifier OverSampling    0.956961   0.006760   \n",
       "3   Random Forest Classifier OverSampling    0.965865   0.005242   \n",
       "0            Logistic Regression NearMiss    0.152040   0.048209   \n",
       "1       Decision Tree Classifier NearMiss    0.252399   0.006228   \n",
       "2                 KNN Classifier NearMiss    0.191867   0.004097   \n",
       "3       Random Forest Classifier NearMiss    0.275557   0.005598   \n",
       "\n",
       "   precision score  f1 score  \n",
       "0         0.112678  0.202535  \n",
       "1         0.843212  0.906475  \n",
       "2         0.619361  0.757907  \n",
       "3         0.898700  0.934187  \n",
       "0         0.112678  0.202535  \n",
       "1         0.962610  0.967576  \n",
       "2         0.968452  0.973093  \n",
       "3         0.978261  0.972429  \n",
       "0         0.112678  0.202535  \n",
       "1         0.251047  0.399455  \n",
       "2         0.190662  0.319061  \n",
       "3         0.283871  0.440000  "
      ]
     },
     "execution_count": 31,
     "metadata": {},
     "output_type": "execute_result"
    }
   ],
   "source": [
    "#Summary Balancing Dataset\n",
    "resume_balancing = pd.concat([under_result,over_summary,nm_summary], axis=0)\n",
    "resume_balancing"
   ]
  },
  {
   "cell_type": "raw",
   "id": "e63d5b03-084a-4ccd-9720-fdb037e4fc06",
   "metadata": {
    "id": "e63d5b03-084a-4ccd-9720-fdb037e4fc06"
   },
   "source": [
    "After balancing the dataset the f1 score is decreased or similar, so better model will be without balancing the dataset. Based on the above summary stable model are KNN and Random Forest Classifier."
   ]
  },
  {
   "cell_type": "raw",
   "id": "df1df102-3ece-42f7-804d-3040b0e7e3af",
   "metadata": {
    "id": "df1df102-3ece-42f7-804d-3040b0e7e3af"
   },
   "source": [
    "BOOSTING MODEL: we will now try few boosting model and compare the results"
   ]
  },
  {
   "cell_type": "code",
   "execution_count": null,
   "id": "93ed9d29-72c4-468d-813b-4ca80445676f",
   "metadata": {
    "id": "93ed9d29-72c4-468d-813b-4ca80445676f"
   },
   "outputs": [],
   "source": [
    "adaboost = AdaBoostClassifier(\n",
    "            tree,\n",
    "            n_estimators = 50,\n",
    "            learning_rate = 0.1,\n",
    "            random_state = 2020)\n",
    "\n",
    "pipe_ada = Pipeline([\n",
    "    ('transformer', transformer),\n",
    "    ('adaboost', adaboost)\n",
    "])\n",
    "\n",
    "gradboost = GradientBoostingClassifier(\n",
    "            n_estimators = 50,\n",
    "            learning_rate = 0.1,\n",
    "            max_depth = 3,\n",
    "            random_state = 2020)\n",
    "\n",
    "pipe_grad = Pipeline([\n",
    "    ('transformer', transformer),\n",
    "    ('gradboost', gradboost)\n",
    "])\n",
    "\n",
    "XGBOOST = XGBClassifier(\n",
    "            n_estimators = 50,\n",
    "            learning_rate = 0.1,\n",
    "            max_depth = 3,\n",
    "            random_state = 2020)\n",
    "\n",
    "pipe_XGB = Pipeline([\n",
    "    ('transformer', transformer),\n",
    "    ('XGBOOST', XGBOOST)\n",
    "])"
   ]
  },
  {
   "cell_type": "code",
   "execution_count": null,
   "id": "c0d88adc-ba7e-40ec-9dc8-4e365a45a67a",
   "metadata": {
    "id": "c0d88adc-ba7e-40ec-9dc8-4e365a45a67a",
    "outputId": "a64dfed7-affa-4b16-ba12-c9d23775b454"
   },
   "outputs": [
    {
     "name": "stdout",
     "output_type": "stream",
     "text": [
      "[18:08:17] WARNING: C:/Users/Administrator/workspace/xgboost-win64_release_1.5.1/src/learner.cc:1115: Starting in XGBoost 1.3.0, the default evaluation metric used with the objective 'binary:logistic' was changed from 'error' to 'logloss'. Explicitly set eval_metric if you'd like to restore the old behavior.\n"
     ]
    },
    {
     "data": {
      "text/html": [
       "<div>\n",
       "<style scoped>\n",
       "    .dataframe tbody tr th:only-of-type {\n",
       "        vertical-align: middle;\n",
       "    }\n",
       "\n",
       "    .dataframe tbody tr th {\n",
       "        vertical-align: top;\n",
       "    }\n",
       "\n",
       "    .dataframe thead th {\n",
       "        text-align: right;\n",
       "    }\n",
       "</style>\n",
       "<table border=\"1\" class=\"dataframe\">\n",
       "  <thead>\n",
       "    <tr style=\"text-align: right;\">\n",
       "      <th></th>\n",
       "      <th>method</th>\n",
       "      <th>mean score</th>\n",
       "      <th>std score</th>\n",
       "      <th>precision score</th>\n",
       "      <th>f1 score</th>\n",
       "    </tr>\n",
       "  </thead>\n",
       "  <tbody>\n",
       "    <tr>\n",
       "      <th>0</th>\n",
       "      <td>Ada Boost Classifier</td>\n",
       "      <td>0.972921</td>\n",
       "      <td>0.008368</td>\n",
       "      <td>0.981777</td>\n",
       "      <td>0.969629</td>\n",
       "    </tr>\n",
       "    <tr>\n",
       "      <th>1</th>\n",
       "      <td>Gradient Boost Classifier</td>\n",
       "      <td>0.876815</td>\n",
       "      <td>0.026270</td>\n",
       "      <td>0.899749</td>\n",
       "      <td>0.410520</td>\n",
       "    </tr>\n",
       "    <tr>\n",
       "      <th>2</th>\n",
       "      <td>XGB Classifier</td>\n",
       "      <td>0.884991</td>\n",
       "      <td>0.020243</td>\n",
       "      <td>0.866667</td>\n",
       "      <td>0.410520</td>\n",
       "    </tr>\n",
       "  </tbody>\n",
       "</table>\n",
       "</div>"
      ],
      "text/plain": [
       "                      method  mean score  std score  precision score  f1 score\n",
       "0       Ada Boost Classifier    0.972921   0.008368         0.981777  0.969629\n",
       "1  Gradient Boost Classifier    0.876815   0.026270         0.899749  0.410520\n",
       "2             XGB Classifier    0.884991   0.020243         0.866667  0.410520"
      ]
     },
     "execution_count": 33,
     "metadata": {},
     "output_type": "execute_result"
    }
   ],
   "source": [
    "def model_evaluation(model, metric):\n",
    "    skfold = StratifiedKFold(n_splits = 5)\n",
    "    model_cv = cross_val_score(model, X_train, y_train, cv = skfold, scoring = metric, n_jobs = -1)\n",
    "    return model_cv\n",
    "\n",
    "pipe_ada_cv = model_evaluation(pipe_ada, 'precision')\n",
    "pipe_grad_cv = model_evaluation(pipe_grad, 'precision')\n",
    "pipe_XGB_cv = model_evaluation(pipe_XGB, 'precision')\n",
    "\n",
    "for model in [pipe_ada, pipe_grad, pipe_XGB]:\n",
    "    model.fit(X_train, y_train)\n",
    "    \n",
    "score_mean = [pipe_ada_cv.mean(), pipe_grad_cv.mean(), pipe_XGB_cv.mean()]\n",
    "score_std = [pipe_ada_cv.std(), pipe_grad_cv.std(), pipe_XGB_cv.std()]\n",
    "score_precision_score = [precision_score(y_test, pipe_ada.predict(X_test)),\n",
    "                         precision_score(y_test, pipe_grad.predict(X_test)), \n",
    "            precision_score(y_test, pipe_XGB.predict(X_test))]\n",
    "score_f1_score = [f1_score(y_test, pipe_ada.predict(X_test)),f1_score(y_test, pipe_grad.predict(X_test)),\n",
    "                           f1_score(y_test, pipe_grad.predict(X_test))]\n",
    "method_name = ['Ada Boost Classifier', 'Gradient Boost Classifier',\n",
    "              'XGB Classifier']\n",
    "boost_summary = pd.DataFrame({\n",
    "    'method': method_name,\n",
    "    'mean score': score_mean,\n",
    "    'std score': score_std,\n",
    "    'precision score': score_precision_score,\n",
    "    'f1 score': score_f1_score,\n",
    "})\n",
    "boost_summary"
   ]
  },
  {
   "cell_type": "code",
   "execution_count": null,
   "id": "e1ace324-1333-496f-a7af-423edfa3a620",
   "metadata": {
    "id": "e1ace324-1333-496f-a7af-423edfa3a620",
    "outputId": "f9bbc732-7176-4122-c946-ead403143f95"
   },
   "outputs": [
    {
     "data": {
      "text/html": [
       "<div>\n",
       "<style scoped>\n",
       "    .dataframe tbody tr th:only-of-type {\n",
       "        vertical-align: middle;\n",
       "    }\n",
       "\n",
       "    .dataframe tbody tr th {\n",
       "        vertical-align: top;\n",
       "    }\n",
       "\n",
       "    .dataframe thead th {\n",
       "        text-align: right;\n",
       "    }\n",
       "</style>\n",
       "<table border=\"1\" class=\"dataframe\">\n",
       "  <thead>\n",
       "    <tr style=\"text-align: right;\">\n",
       "      <th></th>\n",
       "      <th>method</th>\n",
       "      <th>mean score</th>\n",
       "      <th>std score</th>\n",
       "      <th>precision score</th>\n",
       "      <th>f1 score</th>\n",
       "    </tr>\n",
       "  </thead>\n",
       "  <tbody>\n",
       "    <tr>\n",
       "      <th>0</th>\n",
       "      <td>Logistic Regression</td>\n",
       "      <td>0.000000</td>\n",
       "      <td>0.000000</td>\n",
       "      <td>0.000000</td>\n",
       "      <td>0.000000</td>\n",
       "    </tr>\n",
       "    <tr>\n",
       "      <th>1</th>\n",
       "      <td>Decision Tree Classifier</td>\n",
       "      <td>0.956315</td>\n",
       "      <td>0.013380</td>\n",
       "      <td>0.968727</td>\n",
       "      <td>0.966209</td>\n",
       "    </tr>\n",
       "    <tr>\n",
       "      <th>2</th>\n",
       "      <td>KNN Classifier</td>\n",
       "      <td>0.972901</td>\n",
       "      <td>0.006715</td>\n",
       "      <td>0.984906</td>\n",
       "      <td>0.975701</td>\n",
       "    </tr>\n",
       "    <tr>\n",
       "      <th>3</th>\n",
       "      <td>Random Forest Classifier</td>\n",
       "      <td>0.982673</td>\n",
       "      <td>0.007802</td>\n",
       "      <td>0.986228</td>\n",
       "      <td>0.970267</td>\n",
       "    </tr>\n",
       "    <tr>\n",
       "      <th>0</th>\n",
       "      <td>Ada Boost Classifier</td>\n",
       "      <td>0.972921</td>\n",
       "      <td>0.008368</td>\n",
       "      <td>0.981777</td>\n",
       "      <td>0.969629</td>\n",
       "    </tr>\n",
       "    <tr>\n",
       "      <th>1</th>\n",
       "      <td>Gradient Boost Classifier</td>\n",
       "      <td>0.876815</td>\n",
       "      <td>0.026270</td>\n",
       "      <td>0.899749</td>\n",
       "      <td>0.410520</td>\n",
       "    </tr>\n",
       "    <tr>\n",
       "      <th>2</th>\n",
       "      <td>XGB Classifier</td>\n",
       "      <td>0.884991</td>\n",
       "      <td>0.020243</td>\n",
       "      <td>0.866667</td>\n",
       "      <td>0.410520</td>\n",
       "    </tr>\n",
       "  </tbody>\n",
       "</table>\n",
       "</div>"
      ],
      "text/plain": [
       "                      method  mean score  std score  precision score  f1 score\n",
       "0        Logistic Regression    0.000000   0.000000         0.000000  0.000000\n",
       "1   Decision Tree Classifier    0.956315   0.013380         0.968727  0.966209\n",
       "2             KNN Classifier    0.972901   0.006715         0.984906  0.975701\n",
       "3   Random Forest Classifier    0.982673   0.007802         0.986228  0.970267\n",
       "0       Ada Boost Classifier    0.972921   0.008368         0.981777  0.969629\n",
       "1  Gradient Boost Classifier    0.876815   0.026270         0.899749  0.410520\n",
       "2             XGB Classifier    0.884991   0.020243         0.866667  0.410520"
      ]
     },
     "execution_count": 34,
     "metadata": {},
     "output_type": "execute_result"
    }
   ],
   "source": [
    "resume_model = pd.concat([cv_result,boost_summary], axis=0)\n",
    "resume_model"
   ]
  },
  {
   "cell_type": "raw",
   "id": "1b295bb6",
   "metadata": {
    "id": "1b295bb6"
   },
   "source": [
    "Based on the above resume, we will choose KNN Classifier because it has the highest F1 score."
   ]
  },
  {
   "cell_type": "raw",
   "id": "cac0a7ca-dcfc-4471-9fa4-57fe6aca7791",
   "metadata": {
    "id": "cac0a7ca-dcfc-4471-9fa4-57fe6aca7791"
   },
   "source": [
    "Based on the above resume, we will choose KNN Classifier, because it has the highest precision score and precision score between class 1 and 0 is balance. \n"
   ]
  },
  {
   "cell_type": "code",
   "execution_count": null,
   "id": "c35366f6",
   "metadata": {
    "id": "c35366f6"
   },
   "outputs": [],
   "source": [
    "# KNN Classifier score "
   ]
  },
  {
   "cell_type": "code",
   "execution_count": null,
   "id": "cb432395-e043-400e-a6b2-1707a204de87",
   "metadata": {
    "id": "cb432395-e043-400e-a6b2-1707a204de87",
    "outputId": "07dce7e5-65fa-49fe-8e0e-a9fe6e87fc2e"
   },
   "outputs": [
    {
     "data": {
      "text/html": [
       "<div>\n",
       "<style scoped>\n",
       "    .dataframe tbody tr th:only-of-type {\n",
       "        vertical-align: middle;\n",
       "    }\n",
       "\n",
       "    .dataframe tbody tr th {\n",
       "        vertical-align: top;\n",
       "    }\n",
       "\n",
       "    .dataframe thead th {\n",
       "        text-align: right;\n",
       "    }\n",
       "</style>\n",
       "<table border=\"1\" class=\"dataframe\">\n",
       "  <thead>\n",
       "    <tr style=\"text-align: right;\">\n",
       "      <th></th>\n",
       "      <th>method</th>\n",
       "      <th>Precision_score</th>\n",
       "      <th>F1_score</th>\n",
       "    </tr>\n",
       "  </thead>\n",
       "  <tbody>\n",
       "    <tr>\n",
       "      <th>0</th>\n",
       "      <td>KNN Classifier_Test</td>\n",
       "      <td>0.984906</td>\n",
       "      <td>0.975701</td>\n",
       "    </tr>\n",
       "  </tbody>\n",
       "</table>\n",
       "</div>"
      ],
      "text/plain": [
       "                method  Precision_score  F1_score\n",
       "0  KNN Classifier_Test         0.984906  0.975701"
      ]
     },
     "execution_count": 41,
     "metadata": {},
     "output_type": "execute_result"
    }
   ],
   "source": [
    "knn_pipe.fit(X_train, y_train)\n",
    "y_pred_estimator = knn_pipe.predict(X_test)\n",
    "precision_estimator = precision_score(y_test, knn_pipe.predict(X_test))\n",
    "f1_estimator = f1_score(y_test, y_pred_estimator)\n",
    "\n",
    "\n",
    "method_name = ['KNN Classifier_Test']\n",
    "best_summary = pd.DataFrame({\n",
    "    'method': method_name,\n",
    "    'Precision_score': precision_estimator,\n",
    "    'F1_score': f1_estimator\n",
    "})\n",
    "best_summary"
   ]
  },
  {
   "cell_type": "code",
   "execution_count": null,
   "id": "a1198650",
   "metadata": {
    "id": "a1198650",
    "outputId": "52e9e706-ea04-45b7-9ad5-dacf9ce39e5b"
   },
   "outputs": [
    {
     "data": {
      "text/html": [
       "<div>\n",
       "<style scoped>\n",
       "    .dataframe tbody tr th:only-of-type {\n",
       "        vertical-align: middle;\n",
       "    }\n",
       "\n",
       "    .dataframe tbody tr th {\n",
       "        vertical-align: top;\n",
       "    }\n",
       "\n",
       "    .dataframe thead th {\n",
       "        text-align: right;\n",
       "    }\n",
       "</style>\n",
       "<table border=\"1\" class=\"dataframe\">\n",
       "  <thead>\n",
       "    <tr style=\"text-align: right;\">\n",
       "      <th></th>\n",
       "      <th>method</th>\n",
       "      <th>Precision_score</th>\n",
       "      <th>F1_score</th>\n",
       "    </tr>\n",
       "  </thead>\n",
       "  <tbody>\n",
       "    <tr>\n",
       "      <th>0</th>\n",
       "      <td>KNN Classifier_Train</td>\n",
       "      <td>0.972527</td>\n",
       "      <td>0.96396</td>\n",
       "    </tr>\n",
       "  </tbody>\n",
       "</table>\n",
       "</div>"
      ],
      "text/plain": [
       "                 method  Precision_score  F1_score\n",
       "0  KNN Classifier_Train         0.972527   0.96396"
      ]
     },
     "execution_count": 43,
     "metadata": {},
     "output_type": "execute_result"
    }
   ],
   "source": [
    "train_pred = knn_pipe.predict(X_train) #prediction on trained data\n",
    "train_precision_estimator = precision_score(y_train, train_pred)\n",
    "train_f1_estimator = f1_score(y_train, train_pred)\n",
    "\n",
    "\n",
    "method_name = ['KNN Classifier_Train']\n",
    "train_best_summary = pd.DataFrame({\n",
    "    'method': method_name,\n",
    "    'Precision_score': train_precision_estimator,\n",
    "    'F1_score': train_f1_estimator\n",
    "})\n",
    "train_best_summary"
   ]
  },
  {
   "cell_type": "code",
   "execution_count": null,
   "id": "385f2e7c",
   "metadata": {
    "id": "385f2e7c",
    "outputId": "67ff546b-d5ad-4049-d8d7-709b0ab9218b"
   },
   "outputs": [
    {
     "data": {
      "text/html": [
       "<div>\n",
       "<style scoped>\n",
       "    .dataframe tbody tr th:only-of-type {\n",
       "        vertical-align: middle;\n",
       "    }\n",
       "\n",
       "    .dataframe tbody tr th {\n",
       "        vertical-align: top;\n",
       "    }\n",
       "\n",
       "    .dataframe thead th {\n",
       "        text-align: right;\n",
       "    }\n",
       "</style>\n",
       "<table border=\"1\" class=\"dataframe\">\n",
       "  <thead>\n",
       "    <tr style=\"text-align: right;\">\n",
       "      <th></th>\n",
       "      <th>method</th>\n",
       "      <th>precision_score</th>\n",
       "      <th>F1_score</th>\n",
       "    </tr>\n",
       "  </thead>\n",
       "  <tbody>\n",
       "    <tr>\n",
       "      <th>0</th>\n",
       "      <td>Random Forest Classifier_Test</td>\n",
       "      <td>0.986228</td>\n",
       "      <td>0.970267</td>\n",
       "    </tr>\n",
       "  </tbody>\n",
       "</table>\n",
       "</div>"
      ],
      "text/plain": [
       "                          method  precision_score  F1_score\n",
       "0  Random Forest Classifier_Test         0.986228  0.970267"
      ]
     },
     "execution_count": 44,
     "metadata": {},
     "output_type": "execute_result"
    }
   ],
   "source": [
    "rf_pipe.fit(X_train, y_train)\n",
    "rf_y_pred_estimator = rf_pipe.predict(X_test)\n",
    "precision_estimator = precision_score(y_test,rf_y_pred_estimator)\n",
    "f1_estimator = f1_score(y_test, rf_y_pred_estimator, average='binary')\n",
    "\n",
    "\n",
    "\n",
    "\n",
    "#score_list = [precision_estimator,f1_estimator, train_precision_estimator ,train_f1_estimator]\n",
    "method_name = ['Random Forest Classifier_Test']\n",
    "rf_best_summary = pd.DataFrame({\n",
    "    'method': method_name,\n",
    "    'precision_score': precision_estimator,\n",
    "    'F1_score': f1_estimator\n",
    "})\n",
    "rf_best_summary"
   ]
  },
  {
   "cell_type": "code",
   "execution_count": null,
   "id": "15e8bd35",
   "metadata": {
    "id": "15e8bd35",
    "outputId": "707d7d52-99fb-41c3-fec6-a55b608d5932"
   },
   "outputs": [
    {
     "data": {
      "text/html": [
       "<div>\n",
       "<style scoped>\n",
       "    .dataframe tbody tr th:only-of-type {\n",
       "        vertical-align: middle;\n",
       "    }\n",
       "\n",
       "    .dataframe tbody tr th {\n",
       "        vertical-align: top;\n",
       "    }\n",
       "\n",
       "    .dataframe thead th {\n",
       "        text-align: right;\n",
       "    }\n",
       "</style>\n",
       "<table border=\"1\" class=\"dataframe\">\n",
       "  <thead>\n",
       "    <tr style=\"text-align: right;\">\n",
       "      <th></th>\n",
       "      <th>method</th>\n",
       "      <th>precision_score</th>\n",
       "      <th>F1_score</th>\n",
       "    </tr>\n",
       "  </thead>\n",
       "  <tbody>\n",
       "    <tr>\n",
       "      <th>0</th>\n",
       "      <td>Random Forest Classifier_Train</td>\n",
       "      <td>0.972527</td>\n",
       "      <td>0.96396</td>\n",
       "    </tr>\n",
       "  </tbody>\n",
       "</table>\n",
       "</div>"
      ],
      "text/plain": [
       "                           method  precision_score  F1_score\n",
       "0  Random Forest Classifier_Train         0.972527   0.96396"
      ]
     },
     "execution_count": 46,
     "metadata": {},
     "output_type": "execute_result"
    }
   ],
   "source": [
    "rf_train_pred = knn_pipe.predict(X_train) #prediction on trained data\n",
    "train_precision_estimator = precision_score(y_train,rf_train_pred)\n",
    "train_f1_estimator = f1_score(y_train, rf_train_pred)\n",
    "\n",
    "method_name = ['Random Forest Classifier_Train']\n",
    "rf_train_best_summary = pd.DataFrame({\n",
    "    'method': method_name,\n",
    "    'precision_score': train_precision_estimator,\n",
    "    'F1_score': train_f1_estimator\n",
    "})\n",
    "rf_train_best_summary\n"
   ]
  },
  {
   "cell_type": "code",
   "execution_count": null,
   "id": "6eb34f33",
   "metadata": {
    "id": "6eb34f33",
    "outputId": "9b4894fe-eb5a-4c88-df5c-8270d5c796b3"
   },
   "outputs": [
    {
     "name": "stdout",
     "output_type": "stream",
     "text": [
      "[18:38:32] WARNING: C:/Users/Administrator/workspace/xgboost-win64_release_1.5.1/src/learner.cc:1115: Starting in XGBoost 1.3.0, the default evaluation metric used with the objective 'binary:logistic' was changed from 'error' to 'logloss'. Explicitly set eval_metric if you'd like to restore the old behavior.\n"
     ]
    },
    {
     "data": {
      "text/html": [
       "<div>\n",
       "<style scoped>\n",
       "    .dataframe tbody tr th:only-of-type {\n",
       "        vertical-align: middle;\n",
       "    }\n",
       "\n",
       "    .dataframe tbody tr th {\n",
       "        vertical-align: top;\n",
       "    }\n",
       "\n",
       "    .dataframe thead th {\n",
       "        text-align: right;\n",
       "    }\n",
       "</style>\n",
       "<table border=\"1\" class=\"dataframe\">\n",
       "  <thead>\n",
       "    <tr style=\"text-align: right;\">\n",
       "      <th></th>\n",
       "      <th>method</th>\n",
       "      <th>precision_score</th>\n",
       "      <th>F1_score</th>\n",
       "    </tr>\n",
       "  </thead>\n",
       "  <tbody>\n",
       "    <tr>\n",
       "      <th>0</th>\n",
       "      <td>XGB Classifier_Test</td>\n",
       "      <td>0.866667</td>\n",
       "      <td>0.352802</td>\n",
       "    </tr>\n",
       "  </tbody>\n",
       "</table>\n",
       "</div>"
      ],
      "text/plain": [
       "                method  precision_score  F1_score\n",
       "0  XGB Classifier_Test         0.866667  0.352802"
      ]
     },
     "execution_count": 74,
     "metadata": {},
     "output_type": "execute_result"
    }
   ],
   "source": [
    "pipe_XGB.fit(X_train, y_train)\n",
    "XGB_y_pred_estimator = pipe_XGB.predict(X_test)\n",
    "precision_estimator = precision_score(y_test,XGB_y_pred_estimator)\n",
    "f1_estimator = f1_score(y_test, XGB_y_pred_estimator, average='binary')\n",
    "\n",
    "\n",
    "\n",
    "\n",
    "#score_list = [precision_estimator,f1_estimator, train_precision_estimator ,train_f1_estimator]\n",
    "method_name = ['XGB Classifier_Test']\n",
    "XGB_best_summary = pd.DataFrame({\n",
    "    'method': method_name,\n",
    "    'precision_score': precision_estimator,\n",
    "    'F1_score': f1_estimator\n",
    "})\n",
    "XGB_best_summary"
   ]
  },
  {
   "cell_type": "code",
   "execution_count": null,
   "id": "a9061c8d",
   "metadata": {
    "id": "a9061c8d",
    "outputId": "6600108b-aab4-400b-8c68-2d082037f8cf"
   },
   "outputs": [
    {
     "data": {
      "text/html": [
       "<div>\n",
       "<style scoped>\n",
       "    .dataframe tbody tr th:only-of-type {\n",
       "        vertical-align: middle;\n",
       "    }\n",
       "\n",
       "    .dataframe tbody tr th {\n",
       "        vertical-align: top;\n",
       "    }\n",
       "\n",
       "    .dataframe thead th {\n",
       "        text-align: right;\n",
       "    }\n",
       "</style>\n",
       "<table border=\"1\" class=\"dataframe\">\n",
       "  <thead>\n",
       "    <tr style=\"text-align: right;\">\n",
       "      <th></th>\n",
       "      <th>method</th>\n",
       "      <th>precision_score</th>\n",
       "      <th>F1_score</th>\n",
       "    </tr>\n",
       "  </thead>\n",
       "  <tbody>\n",
       "    <tr>\n",
       "      <th>0</th>\n",
       "      <td>XGB Classifier_Train</td>\n",
       "      <td>0.887517</td>\n",
       "      <td>0.333677</td>\n",
       "    </tr>\n",
       "  </tbody>\n",
       "</table>\n",
       "</div>"
      ],
      "text/plain": [
       "                 method  precision_score  F1_score\n",
       "0  XGB Classifier_Train         0.887517  0.333677"
      ]
     },
     "execution_count": 75,
     "metadata": {},
     "output_type": "execute_result"
    }
   ],
   "source": [
    "XGB_train_pred = pipe_XGB.predict(X_train) #prediction on trained data\n",
    "train_precision_estimator = precision_score(y_train,XGB_train_pred)\n",
    "train_f1_estimator = f1_score(y_train, XGB_train_pred)\n",
    "\n",
    "method_name = ['XGB Classifier_Train']\n",
    "XGB_train_best_summary = pd.DataFrame({\n",
    "    'method': method_name,\n",
    "    'precision_score': train_precision_estimator,\n",
    "    'F1_score': train_f1_estimator\n",
    "})\n",
    "XGB_train_best_summary"
   ]
  },
  {
   "cell_type": "code",
   "execution_count": null,
   "id": "16b8f82d",
   "metadata": {
    "id": "16b8f82d",
    "outputId": "6635d07f-3d54-4cd0-ff28-f2302cb731e2"
   },
   "outputs": [
    {
     "data": {
      "text/plain": [
       "0.9639596347909658"
      ]
     },
     "execution_count": 47,
     "metadata": {},
     "output_type": "execute_result"
    }
   ],
   "source": [
    "train_pred = knn_pipe.predict(X_train)  #prediction on trained data\n",
    "f1_score(y_train, train_pred)"
   ]
  },
  {
   "cell_type": "markdown",
   "id": "cd818db8",
   "metadata": {
    "id": "cd818db8"
   },
   "source": [
    "precision score without tunning is better than after tunning, so the model will be choose is Random Forest Classifier without tuning."
   ]
  },
  {
   "cell_type": "code",
   "execution_count": null,
   "id": "4c4e643c",
   "metadata": {
    "id": "4c4e643c",
    "outputId": "c047615e-7c49-4668-b752-bb0c71cace24"
   },
   "outputs": [
    {
     "data": {
      "image/png": "[encoded data removed]",
      "text/plain": [
       "<Figure size 432x432 with 1 Axes>"
      ]
     },
     "metadata": {
      "needs_background": "light"
     },
     "output_type": "display_data"
    },
    {
     "name": "stdout",
     "output_type": "stream",
     "text": [
      "KNN_Confusion Matrix:\n",
      "----------------------\n",
      " [[10611    20]\n",
      " [   45  1305]]\n",
      "\n",
      "KNN_Classification Report:\n",
      "----------------------\n",
      "               precision    recall  f1-score   support\n",
      "\n",
      "    NEGATIVE       1.00      1.00      1.00     10631\n",
      "    POSITIVE       0.98      0.97      0.98      1350\n",
      "\n",
      "    accuracy                           0.99     11981\n",
      "   macro avg       0.99      0.98      0.99     11981\n",
      "weighted avg       0.99      0.99      0.99     11981\n",
      "\n"
     ]
    }
   ],
   "source": [
    "# classification report and plotting confusion matrix\n",
    "knn_cm = confusion_matrix(y_test,y_pred_estimator)\n",
    "knn_clr = classification_report(y_test,y_pred_estimator, target_names=[\"NEGATIVE\", \"POSITIVE\"])\n",
    "\n",
    "plt.figure(figsize=(6, 6))\n",
    "sns.heatmap(knn_cm, annot=True, fmt='g', vmin=0, cmap='Blues', cbar=False)\n",
    "plt.xticks(ticks=np.arange(2) + 0.5, labels=[\"NEGATIVE\", \"POSITIVE\"])\n",
    "plt.yticks(ticks=np.arange(2) + 0.5, labels=[\"NEGATIVE\", \"POSITIVE\"])\n",
    "plt.xlabel(\"Predicted\")\n",
    "plt.ylabel(\"Actual\")\n",
    "plt.title(\"KNN_Confusion Matrix\")\n",
    "plt.show()\n",
    "\n",
    "print(\"KNN_Confusion Matrix:\\n----------------------\\n\", knn_cm)\n",
    "print()\n",
    "print(\"KNN_Classification Report:\\n----------------------\\n\", knn_clr)"
   ]
  },
  {
   "cell_type": "code",
   "execution_count": null,
   "id": "86d39f7a",
   "metadata": {
    "id": "86d39f7a"
   },
   "outputs": [],
   "source": []
  },
  {
   "cell_type": "code",
   "execution_count": null,
   "id": "57829afb",
   "metadata": {
    "id": "57829afb",
    "outputId": "faf0d07d-66a5-47b1-e85a-f0403dc241af",
    "scrolled": true
   },
   "outputs": [
    {
     "data": {
      "image/png": "[encoded data removed]",
      "text/plain": [
       "<Figure size 432x432 with 1 Axes>"
      ]
     },
     "metadata": {
      "needs_background": "light"
     },
     "output_type": "display_data"
    },
    {
     "name": "stdout",
     "output_type": "stream",
     "text": [
      "Confusion Matrix:\n",
      "----------------------\n",
      " [[10613    18]\n",
      " [   61  1289]]\n",
      "\n",
      "Classification Report:\n",
      "----------------------\n",
      "               precision    recall  f1-score   support\n",
      "\n",
      "    NEGATIVE       0.99      1.00      1.00     10631\n",
      "    POSITIVE       0.99      0.95      0.97      1350\n",
      "\n",
      "    accuracy                           0.99     11981\n",
      "   macro avg       0.99      0.98      0.98     11981\n",
      "weighted avg       0.99      0.99      0.99     11981\n",
      "\n"
     ]
    }
   ],
   "source": [
    "# classification report and plotting confusion matrix\n",
    "rf_cm = confusion_matrix(y_test,rf_y_pred_estimator)\n",
    "rf_clr = classification_report(y_test,rf_y_pred_estimator, target_names=[\"NEGATIVE\", \"POSITIVE\"])\n",
    "\n",
    "plt.figure(figsize=(6, 6))\n",
    "sns.heatmap(rf_cm, annot=True, fmt='g', vmin=0, cmap='Blues', cbar=False)\n",
    "plt.xticks(ticks=np.arange(2) + 0.5, labels=[\"NEGATIVE\", \"POSITIVE\"])\n",
    "plt.yticks(ticks=np.arange(2) + 0.5, labels=[\"NEGATIVE\", \"POSITIVE\"])\n",
    "plt.xlabel(\"Predicted\")\n",
    "plt.ylabel(\"Actual\")\n",
    "plt.title(\"RF_Confusion Matrix\")\n",
    "plt.show()\n",
    "\n",
    "print(\"RF_Confusion Matrix:\\n----------------------\\n\", rf_cm)\n",
    "print()\n",
    "print(\"RF_Classification Report:\\n----------------------\\n\", rf_clr)"
   ]
  },
  {
   "cell_type": "code",
   "execution_count": null,
   "id": "5bb2403c",
   "metadata": {
    "id": "5bb2403c",
    "outputId": "60b6e338-cb06-4caa-ddf3-0e787968c657"
   },
   "outputs": [
    {
     "data": {
      "image/png": "[encoded data removed]",
      "text/plain": [
       "<Figure size 432x432 with 1 Axes>"
      ]
     },
     "metadata": {
      "needs_background": "light"
     },
     "output_type": "display_data"
    },
    {
     "name": "stdout",
     "output_type": "stream",
     "text": [
      "XGB_Confusion Matrix:\n",
      "----------------------\n",
      " [[10585    46]\n",
      " [ 1051   299]]\n",
      "\n",
      "XGB_Classification Report:\n",
      "----------------------\n",
      "               precision    recall  f1-score   support\n",
      "\n",
      "    NEGATIVE       0.91      1.00      0.95     10631\n",
      "    POSITIVE       0.87      0.22      0.35      1350\n",
      "\n",
      "    accuracy                           0.91     11981\n",
      "   macro avg       0.89      0.61      0.65     11981\n",
      "weighted avg       0.90      0.91      0.88     11981\n",
      "\n"
     ]
    }
   ],
   "source": [
    "# classification report and plotting confusion matrix\n",
    "XGB_cm = confusion_matrix(y_test,XGB_y_pred_estimator)\n",
    "XGB_clr = classification_report(y_test,XGB_y_pred_estimator, target_names=[\"NEGATIVE\", \"POSITIVE\"])\n",
    "\n",
    "plt.figure(figsize=(6, 6))\n",
    "sns.heatmap(XGB_cm, annot=True, fmt='g', vmin=0, cmap='Blues', cbar=False)\n",
    "plt.xticks(ticks=np.arange(2) + 0.5, labels=[\"NEGATIVE\", \"POSITIVE\"])\n",
    "plt.yticks(ticks=np.arange(2) + 0.5, labels=[\"NEGATIVE\", \"POSITIVE\"])\n",
    "plt.xlabel(\"Predicted\")\n",
    "plt.ylabel(\"Actual\")\n",
    "plt.title(\"XGB_Confusion Matrix\")\n",
    "plt.show()\n",
    "\n",
    "print(\"XGB_Confusion Matrix:\\n----------------------\\n\", XGB_cm)\n",
    "print()\n",
    "print(\"XGB_Classification Report:\\n----------------------\\n\", XGB_clr)"
   ]
  },
  {
   "cell_type": "raw",
   "id": "33aa5169",
   "metadata": {
    "id": "33aa5169"
   },
   "source": [
    "TN: Customers who are predicted will not respond to the campaign, in fact it does not respond.\n",
    "TP: Customers are predicted to respond the campaign, actually it does respond.\n",
    "FP: Customers who are predicted to respond the campaign, actually do not respond.\n",
    "FN: Predicted Customers do not respond to the campaign, actually respond.\n",
    "   \n",
    "Error that occurred:\n",
    "\n",
    "FN: Wrong prediction, the company only loses prospective customers, but not financial losses\n",
    "FP: the company loses more such as time, energy and financial, because it has prepared everything for the campaign to people, but those people are not response.\n",
    "So the most influential mistake for financial losses is FP"
   ]
  },
  {
   "cell_type": "code",
   "execution_count": null,
   "id": "5cdd1d5f",
   "metadata": {
    "id": "5cdd1d5f",
    "outputId": "cbfe9dd6-0fa1-4d8f-e3e1-592932f7e656"
   },
   "outputs": [
    {
     "data": {
      "text/plain": [
       "20"
      ]
     },
     "execution_count": 51,
     "metadata": {},
     "output_type": "execute_result"
    }
   ],
   "source": [
    "TP = knn_cm[1,1] # true positive \n",
    "TN = knn_cm[0,0] # true negatives\n",
    "FP = knn_cm[0,1] # false positives\n",
    "FN = knn_cm[1,0] # false negatives\n",
    "FP"
   ]
  },
  {
   "cell_type": "raw",
   "id": "d3cb6f0c",
   "metadata": {
    "id": "d3cb6f0c"
   },
   "source": [
    "Sensitivity is the metric that evaluates a model's ability to predict true positives of each available category. Specificity is the metric that evaluates a model's ability to predict true negatives of each available category."
   ]
  },
  {
   "cell_type": "code",
   "execution_count": null,
   "id": "e33fafdd",
   "metadata": {
    "id": "e33fafdd",
    "outputId": "a79db84b-ce00-487e-95fd-d4683c855008"
   },
   "outputs": [
    {
     "name": "stdout",
     "output_type": "stream",
     "text": [
      "Sensivity :\n"
     ]
    },
    {
     "data": {
      "text/plain": [
       "0.9666666666666667"
      ]
     },
     "execution_count": 52,
     "metadata": {},
     "output_type": "execute_result"
    }
   ],
   "source": [
    "# Let's see the sensitivity of our Random Forest Classifier model\n",
    "print('Sensivity :')\n",
    "TP / float(TP+FN)"
   ]
  },
  {
   "cell_type": "code",
   "execution_count": null,
   "id": "af7b1007",
   "metadata": {
    "id": "af7b1007",
    "outputId": "18befa76-c302-4f2b-e822-98fa15ba0d89"
   },
   "outputs": [
    {
     "name": "stdout",
     "output_type": "stream",
     "text": [
      "Specificity :\n"
     ]
    },
    {
     "data": {
      "text/plain": [
       "0.9981187094346722"
      ]
     },
     "execution_count": 53,
     "metadata": {},
     "output_type": "execute_result"
    }
   ],
   "source": [
    "# Let us calculate specificity\n",
    "print('Specificity :')\n",
    "TN / float(TN+FP)"
   ]
  },
  {
   "cell_type": "raw",
   "id": "74e2151d",
   "metadata": {
    "id": "74e2151d"
   },
   "source": [
    "We can see that the value of Sensitivity and Specificity are close to each other"
   ]
  },
  {
   "cell_type": "code",
   "execution_count": null,
   "id": "fa6d9125",
   "metadata": {
    "id": "fa6d9125",
    "outputId": "55d6bf08-25ea-4345-9bc2-238c6c8020b2"
   },
   "outputs": [
    {
     "data": {
      "text/plain": [
       "0.9945747433436274"
      ]
     },
     "execution_count": 54,
     "metadata": {},
     "output_type": "execute_result"
    }
   ],
   "source": [
    "# Overall accuracy\n",
    "ACC = float(TP+TN)/float(TP+FP+FN+TN)\n",
    "ACC"
   ]
  },
  {
   "cell_type": "code",
   "execution_count": null,
   "id": "4ea4e38a",
   "metadata": {
    "id": "4ea4e38a"
   },
   "outputs": [],
   "source": []
  },
  {
   "cell_type": "markdown",
   "id": "5821c258-2398-4d7a-aacd-f9a91ef567be",
   "metadata": {
    "id": "5821c258-2398-4d7a-aacd-f9a91ef567be"
   },
   "source": [
    "Export the tested model to a pickle file"
   ]
  },
  {
   "cell_type": "code",
   "execution_count": null,
   "id": "e15dda08-22c6-4da5-9f56-dd57495e102a",
   "metadata": {
    "id": "e15dda08-22c6-4da5-9f56-dd57495e102a"
   },
   "outputs": [],
   "source": [
    "# use pickle to store the model onto our disk.\n",
    "filename = 'response_model.p'\n",
    "#model_pickle = pickle.dump( grid_search, open( \"loan_model.p\", \"wb\" ) )\n",
    "pickle.dump(knn_pipe, open(filename, 'wb'))"
   ]
  },
  {
   "cell_type": "code",
   "execution_count": null,
   "id": "7eafd9e9-a01d-4438-b894-41c32686fd76",
   "metadata": {
    "id": "7eafd9e9-a01d-4438-b894-41c32686fd76",
    "outputId": "d411462c-af17-4430-cce5-87d92b28d715"
   },
   "outputs": [
    {
     "name": "stdout",
     "output_type": "stream",
     "text": [
      "0.9945747433436274\n"
     ]
    }
   ],
   "source": [
    "#When we load the pickle back:\n",
    "loaded_model = pickle.load(open(filename, 'rb'))\n",
    "result = loaded_model.score(X_test, y_test)\n",
    "print(result)\n"
   ]
  },
  {
   "cell_type": "code",
   "execution_count": null,
   "id": "1b0f26ea-68fd-464e-a11c-aaa66bb22502",
   "metadata": {
    "id": "1b0f26ea-68fd-464e-a11c-aaa66bb22502",
    "outputId": "74649c4b-053d-4bad-b857-2d096ca2298f"
   },
   "outputs": [
    {
     "data": {
      "text/plain": [
       "0        N\n",
       "1        Y\n",
       "2        N\n",
       "3        N\n",
       "4        N\n",
       "        ..\n",
       "11976    N\n",
       "11977    N\n",
       "11978    N\n",
       "11979    N\n",
       "11980    N\n",
       "Name: Response, Length: 11981, dtype: object"
      ]
     },
     "execution_count": 58,
     "metadata": {},
     "output_type": "execute_result"
    }
   ],
   "source": [
    "# use our trained model to predict.\n",
    "\n",
    "# calculate the predictions for each class\n",
    "X_predict = knn_pipe.predict(X_test)\n",
    "\n",
    "# create the solution dataframe\n",
    "Result = pd.DataFrame(data=X_predict,  columns=['Response'])\n",
    "Result = Result['Response'].map({0:'N', 1:'Y'})\n",
    "Result"
   ]
  },
  {
   "cell_type": "code",
   "execution_count": null,
   "id": "2f2b6baa-44cd-441b-91c8-2554a8b4e767",
   "metadata": {
    "id": "2f2b6baa-44cd-441b-91c8-2554a8b4e767"
   },
   "outputs": [],
   "source": [
    "# save the solution as an csv file\n",
    "Result.to_csv('Solution1.csv', header=True)"
   ]
  },
  {
   "cell_type": "markdown",
   "id": "6e597242-7c6b-4dcd-8c0d-d5fafe43dfc7",
   "metadata": {
    "id": "6e597242-7c6b-4dcd-8c0d-d5fafe43dfc7"
   },
   "source": [
    "Export solution information to a file that will be useful later on in our prediction application"
   ]
  },
  {
   "cell_type": "code",
   "execution_count": null,
   "id": "4b06ca34-39b2-438b-8371-e5d4500a6cb6",
   "metadata": {
    "id": "4b06ca34-39b2-438b-8371-e5d4500a6cb6"
   },
   "outputs": [],
   "source": [
    "import json\n",
    "columns = {\n",
    "    'data_columns' : [col.lower() for col in X.columns]\n",
    "}\n",
    "with open(\"columns.json\",\"w\") as f:\n",
    "    f.write(json.dumps(columns))"
   ]
  },
  {
   "cell_type": "code",
   "execution_count": null,
   "id": "e60ebd37-55e7-490a-b7fe-374790995170",
   "metadata": {
    "id": "e60ebd37-55e7-490a-b7fe-374790995170"
   },
   "outputs": [],
   "source": []
  },
  {
   "cell_type": "code",
   "execution_count": null,
   "id": "9e5c1cdd-f343-465c-8beb-17701db1ebd5",
   "metadata": {
    "id": "9e5c1cdd-f343-465c-8beb-17701db1ebd5"
   },
   "outputs": [],
   "source": [
    "df = pd.read_csv('df_copy.csv')"
   ]
  },
  {
   "cell_type": "code",
   "execution_count": null,
   "id": "b72f6fc9-3f18-48fc-8893-82f90d97d684",
   "metadata": {
    "id": "b72f6fc9-3f18-48fc-8893-82f90d97d684"
   },
   "outputs": [],
   "source": [
    "y_test_pred = knn_pipe.predict(df)"
   ]
  },
  {
   "cell_type": "code",
   "execution_count": null,
   "id": "a9c0750e-27d9-4967-8235-8d8e0e18bd66",
   "metadata": {
    "id": "a9c0750e-27d9-4967-8235-8d8e0e18bd66"
   },
   "outputs": [],
   "source": [
    "df['Predict_Response'] = y_test_pred\n",
    "df_final = df[['ID', 'Response', 'Predict_Response']]"
   ]
  },
  {
   "cell_type": "code",
   "execution_count": null,
   "id": "4ca15c21-2f05-47b4-94bd-30b9b48733ec",
   "metadata": {
    "id": "4ca15c21-2f05-47b4-94bd-30b9b48733ec"
   },
   "outputs": [],
   "source": [
    "df_final['Response'] = df_final['Response'].map({0:'N', 1:'Y'})"
   ]
  },
  {
   "cell_type": "code",
   "execution_count": null,
   "id": "6fdba4c0-6ce6-4e69-bafd-f08dfef935bb",
   "metadata": {
    "id": "6fdba4c0-6ce6-4e69-bafd-f08dfef935bb"
   },
   "outputs": [],
   "source": [
    "df_final['Predict_Response'] = df_final['Predict_Response'].map({0:'N', 1:'Y'})"
   ]
  },
  {
   "cell_type": "code",
   "execution_count": null,
   "id": "afafe35f-f671-47bb-91b6-db9f61436bfc",
   "metadata": {
    "id": "afafe35f-f671-47bb-91b6-db9f61436bfc"
   },
   "outputs": [],
   "source": [
    "df_final.to_csv('Solution_2.csv', index=False)"
   ]
  },
  {
   "cell_type": "code",
   "execution_count": null,
   "id": "0b215c3a-cbfb-46cc-ba43-2ac4ddd48f4a",
   "metadata": {
    "id": "0b215c3a-cbfb-46cc-ba43-2ac4ddd48f4a",
    "outputId": "10481560-fc17-46d1-bec4-d7bb781a2b16"
   },
   "outputs": [
    {
     "data": {
      "text/html": [
       "<div>\n",
       "<style scoped>\n",
       "    .dataframe tbody tr th:only-of-type {\n",
       "        vertical-align: middle;\n",
       "    }\n",
       "\n",
       "    .dataframe tbody tr th {\n",
       "        vertical-align: top;\n",
       "    }\n",
       "\n",
       "    .dataframe thead th {\n",
       "        text-align: right;\n",
       "    }\n",
       "</style>\n",
       "<table border=\"1\" class=\"dataframe\">\n",
       "  <thead>\n",
       "    <tr style=\"text-align: right;\">\n",
       "      <th></th>\n",
       "      <th>ID</th>\n",
       "      <th>Response</th>\n",
       "      <th>Predict_Response</th>\n",
       "    </tr>\n",
       "  </thead>\n",
       "  <tbody>\n",
       "    <tr>\n",
       "      <th>0</th>\n",
       "      <td>8996</td>\n",
       "      <td>N</td>\n",
       "      <td>N</td>\n",
       "    </tr>\n",
       "    <tr>\n",
       "      <th>1</th>\n",
       "      <td>1994</td>\n",
       "      <td>N</td>\n",
       "      <td>N</td>\n",
       "    </tr>\n",
       "    <tr>\n",
       "      <th>2</th>\n",
       "      <td>3769</td>\n",
       "      <td>N</td>\n",
       "      <td>N</td>\n",
       "    </tr>\n",
       "    <tr>\n",
       "      <th>3</th>\n",
       "      <td>5255</td>\n",
       "      <td>N</td>\n",
       "      <td>N</td>\n",
       "    </tr>\n",
       "    <tr>\n",
       "      <th>4</th>\n",
       "      <td>8268</td>\n",
       "      <td>N</td>\n",
       "      <td>N</td>\n",
       "    </tr>\n",
       "  </tbody>\n",
       "</table>\n",
       "</div>"
      ],
      "text/plain": [
       "     ID Response Predict_Response\n",
       "0  8996        N                N\n",
       "1  1994        N                N\n",
       "2  3769        N                N\n",
       "3  5255        N                N\n",
       "4  8268        N                N"
      ]
     },
     "execution_count": 72,
     "metadata": {},
     "output_type": "execute_result"
    }
   ],
   "source": [
    "df_final.head()"
   ]
  },
  {
   "cell_type": "code",
   "execution_count": null,
   "id": "d2d618b4-c6e1-4831-a2e9-5bb4be8fffe8",
   "metadata": {
    "id": "d2d618b4-c6e1-4831-a2e9-5bb4be8fffe8",
    "outputId": "063650a1-b1c2-4f7f-c0d7-8583fb882139"
   },
   "outputs": [
    {
     "data": {
      "text/plain": [
       "(39935, 3)"
      ]
     },
     "execution_count": 73,
     "metadata": {},
     "output_type": "execute_result"
    }
   ],
   "source": [
    "df_final.shape"
   ]
  },
  {
   "cell_type": "code",
   "execution_count": null,
   "id": "a5a1d3bf-0dca-4054-9e05-c17b9fbd52da",
   "metadata": {
    "id": "a5a1d3bf-0dca-4054-9e05-c17b9fbd52da"
   },
   "outputs": [],
   "source": []
  },
  {
   "cell_type": "code",
   "execution_count": null,
   "id": "5dd794a5-aa2e-48f8-8fde-d7669be53806",
   "metadata": {
    "id": "5dd794a5-aa2e-48f8-8fde-d7669be53806"
   },
   "outputs": [],
   "source": []
  },
  {
   "cell_type": "code",
   "execution_count": null,
   "id": "53b5ae45-2dd3-451a-a623-49542fc0bf9a",
   "metadata": {
    "id": "53b5ae45-2dd3-451a-a623-49542fc0bf9a"
   },
   "outputs": [],
   "source": []
  },
  {
   "cell_type": "code",
   "execution_count": null,
   "id": "6773cf96-de53-4dc5-adc4-97b75c241919",
   "metadata": {
    "id": "6773cf96-de53-4dc5-adc4-97b75c241919"
   },
   "outputs": [],
   "source": []
  }
 ],
 "metadata": {
  "colab": {
   "name": "New_model (1).ipynb",
   "provenance": []
  },
  "kernelspec": {
   "display_name": "Python 3 (ipykernel)",
   "language": "python",
   "name": "python3"
  },
  "language_info": {
   "codemirror_mode": {
    "name": "ipython",
    "version": 3
   },
   "file_extension": ".py",
   "mimetype": "text/x-python",
   "name": "python",
   "nbconvert_exporter": "python",
   "pygments_lexer": "ipython3",
   "version": "3.9.7"
  }
 },
 "nbformat": 4,
 "nbformat_minor": 5
}
